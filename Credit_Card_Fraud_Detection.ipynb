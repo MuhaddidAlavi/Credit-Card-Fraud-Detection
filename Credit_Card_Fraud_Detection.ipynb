{
  "nbformat": 4,
  "nbformat_minor": 0,
  "metadata": {
    "colab": {
      "provenance": []
    },
    "kernelspec": {
      "name": "python3",
      "display_name": "Python 3"
    },
    "language_info": {
      "name": "python"
    }
  },
  "cells": [
    {
      "cell_type": "code",
      "metadata": {
        "id": "7Mg8ELtdkrbL"
      },
      "source": [
        "# import all the required libraries and dependencies for dataframe\n",
        "\n",
        "import numpy as np\n",
        "import pandas as pd\n",
        "import matplotlib.pyplot as plt\n",
        "import seaborn as sns\n",
        "import warnings\n",
        "warnings.filterwarnings(\"ignore\")\n",
        "from datetime import datetime, timedelta\n",
        "\n",
        "# import all libraries and dependencies for data visualization\n",
        "pd.options.display.float_format='{:.4f}'.format\n",
        "plt.rcParams['figure.figsize'] = [8,8]\n",
        "pd.set_option('display.max_columns', 500)\n",
        "pd.set_option('display.max_colwidth', -1) \n",
        "sns.set(style='darkgrid')\n",
        "import matplotlib.ticker as plticker\n",
        "%matplotlib inline\n",
        "\n",
        "# import all the required libraries and dependencies for machine learning\n",
        "\n",
        "from sklearn.model_selection import train_test_split\n",
        "from sklearn.preprocessing import StandardScaler\n",
        "from sklearn.linear_model import LogisticRegression\n",
        "from sklearn.model_selection import GridSearchCV\n",
        "from sklearn.model_selection import KFold\n",
        "from sklearn.metrics import roc_auc_score\n",
        "from sklearn.tree import DecisionTreeClassifier\n",
        "from sklearn.ensemble import RandomForestClassifier\n",
        "from sklearn.ensemble import AdaBoostClassifier\n",
        "from sklearn import metrics\n",
        "import statsmodels.api as sm\n",
        "import pickle\n",
        "import gc \n",
        "from sklearn import svm\n",
        "from xgboost import XGBClassifier\n",
        "import xgboost as xgb\n",
        "from sklearn.metrics import accuracy_score\n",
        "from sklearn.metrics import roc_curve,roc_auc_score, precision_recall_curve, average_precision_score\n",
        "from sklearn.metrics import classification_report\n",
        "from sklearn.metrics import confusion_matrix"
      ],
      "execution_count": null,
      "outputs": []
    },
    {
      "cell_type": "code",
      "metadata": {
        "id": "sQha8tnxolCH"
      },
      "source": [
        "import os\n",
        "os.environ['KAGGLE_CONFIG_DIR'] = '/content'"
      ],
      "execution_count": null,
      "outputs": []
    },
    {
      "cell_type": "code",
      "metadata": {
        "colab": {
          "base_uri": "https://localhost:8080/"
        },
        "id": "oqQHpJ-6oc4q",
        "outputId": "9ba8066d-c514-4e52-e63a-a6bccc52a200"
      },
      "source": [
        "!kaggle datasets download -d hellbuoy/credit-card-fraud"
      ],
      "execution_count": null,
      "outputs": [
        {
          "output_type": "stream",
          "name": "stdout",
          "text": [
            "Traceback (most recent call last):\n",
            "  File \"/usr/local/bin/kaggle\", line 5, in <module>\n",
            "    from kaggle.cli import main\n",
            "  File \"/usr/local/lib/python2.7/dist-packages/kaggle/__init__.py\", line 23, in <module>\n",
            "    api.authenticate()\n",
            "  File \"/usr/local/lib/python2.7/dist-packages/kaggle/api/kaggle_api_extended.py\", line 146, in authenticate\n",
            "    self.config_file, self.config_dir))\n",
            "IOError: Could not find kaggle.json. Make sure it's located in /content. Or use the environment method.\n"
          ]
        }
      ]
    },
    {
      "cell_type": "code",
      "metadata": {
        "colab": {
          "base_uri": "https://localhost:8080/"
        },
        "id": "dG2gApIGotWz",
        "outputId": "8dbb6328-076c-483e-9d41-9b5ea052e4d9"
      },
      "source": [
        "!unzip \\*.zip"
      ],
      "execution_count": null,
      "outputs": [
        {
          "output_type": "stream",
          "name": "stdout",
          "text": [
            "unzip:  cannot find or open *.zip, *.zip.zip or *.zip.ZIP.\n",
            "\n",
            "No zipfiles found.\n"
          ]
        }
      ]
    },
    {
      "cell_type": "code",
      "metadata": {
        "id": "SLV6Zklem8Tr"
      },
      "source": [
        "# Local file path.Please change the path accordingly.\n",
        "\n",
        "path = '/content/creditcard.csv'"
      ],
      "execution_count": null,
      "outputs": []
    },
    {
      "cell_type": "code",
      "metadata": {
        "colab": {
          "base_uri": "https://localhost:8080/",
          "height": 451
        },
        "id": "zeA499xYnl8M",
        "outputId": "cfc0bcc3-0ba8-46a4-8a0e-5637e99bccc5"
      },
      "source": [
        "# Reading the Credit Card file on which analysis needs to be done\n",
        "\n",
        "df_card = pd.read_csv(path)\n",
        "df_card.head()"
      ],
      "execution_count": null,
      "outputs": [
        {
          "output_type": "error",
          "ename": "FileNotFoundError",
          "evalue": "ignored",
          "traceback": [
            "\u001b[0;31m---------------------------------------------------------------------------\u001b[0m",
            "\u001b[0;31mFileNotFoundError\u001b[0m                         Traceback (most recent call last)",
            "\u001b[0;32m<ipython-input-6-5953b5410ff3>\u001b[0m in \u001b[0;36m<module>\u001b[0;34m()\u001b[0m\n\u001b[1;32m      1\u001b[0m \u001b[0;31m# Reading the Credit Card file on which analysis needs to be done\u001b[0m\u001b[0;34m\u001b[0m\u001b[0;34m\u001b[0m\u001b[0;34m\u001b[0m\u001b[0m\n\u001b[1;32m      2\u001b[0m \u001b[0;34m\u001b[0m\u001b[0m\n\u001b[0;32m----> 3\u001b[0;31m \u001b[0mdf_card\u001b[0m \u001b[0;34m=\u001b[0m \u001b[0mpd\u001b[0m\u001b[0;34m.\u001b[0m\u001b[0mread_csv\u001b[0m\u001b[0;34m(\u001b[0m\u001b[0mpath\u001b[0m\u001b[0;34m)\u001b[0m\u001b[0;34m\u001b[0m\u001b[0;34m\u001b[0m\u001b[0m\n\u001b[0m\u001b[1;32m      4\u001b[0m \u001b[0mdf_card\u001b[0m\u001b[0;34m.\u001b[0m\u001b[0mhead\u001b[0m\u001b[0;34m(\u001b[0m\u001b[0;34m)\u001b[0m\u001b[0;34m\u001b[0m\u001b[0;34m\u001b[0m\u001b[0m\n",
            "\u001b[0;32m/usr/local/lib/python3.7/dist-packages/pandas/io/parsers.py\u001b[0m in \u001b[0;36mread_csv\u001b[0;34m(filepath_or_buffer, sep, delimiter, header, names, index_col, usecols, squeeze, prefix, mangle_dupe_cols, dtype, engine, converters, true_values, false_values, skipinitialspace, skiprows, skipfooter, nrows, na_values, keep_default_na, na_filter, verbose, skip_blank_lines, parse_dates, infer_datetime_format, keep_date_col, date_parser, dayfirst, cache_dates, iterator, chunksize, compression, thousands, decimal, lineterminator, quotechar, quoting, doublequote, escapechar, comment, encoding, dialect, error_bad_lines, warn_bad_lines, delim_whitespace, low_memory, memory_map, float_precision)\u001b[0m\n\u001b[1;32m    686\u001b[0m     )\n\u001b[1;32m    687\u001b[0m \u001b[0;34m\u001b[0m\u001b[0m\n\u001b[0;32m--> 688\u001b[0;31m     \u001b[0;32mreturn\u001b[0m \u001b[0m_read\u001b[0m\u001b[0;34m(\u001b[0m\u001b[0mfilepath_or_buffer\u001b[0m\u001b[0;34m,\u001b[0m \u001b[0mkwds\u001b[0m\u001b[0;34m)\u001b[0m\u001b[0;34m\u001b[0m\u001b[0;34m\u001b[0m\u001b[0m\n\u001b[0m\u001b[1;32m    689\u001b[0m \u001b[0;34m\u001b[0m\u001b[0m\n\u001b[1;32m    690\u001b[0m \u001b[0;34m\u001b[0m\u001b[0m\n",
            "\u001b[0;32m/usr/local/lib/python3.7/dist-packages/pandas/io/parsers.py\u001b[0m in \u001b[0;36m_read\u001b[0;34m(filepath_or_buffer, kwds)\u001b[0m\n\u001b[1;32m    452\u001b[0m \u001b[0;34m\u001b[0m\u001b[0m\n\u001b[1;32m    453\u001b[0m     \u001b[0;31m# Create the parser.\u001b[0m\u001b[0;34m\u001b[0m\u001b[0;34m\u001b[0m\u001b[0;34m\u001b[0m\u001b[0m\n\u001b[0;32m--> 454\u001b[0;31m     \u001b[0mparser\u001b[0m \u001b[0;34m=\u001b[0m \u001b[0mTextFileReader\u001b[0m\u001b[0;34m(\u001b[0m\u001b[0mfp_or_buf\u001b[0m\u001b[0;34m,\u001b[0m \u001b[0;34m**\u001b[0m\u001b[0mkwds\u001b[0m\u001b[0;34m)\u001b[0m\u001b[0;34m\u001b[0m\u001b[0;34m\u001b[0m\u001b[0m\n\u001b[0m\u001b[1;32m    455\u001b[0m \u001b[0;34m\u001b[0m\u001b[0m\n\u001b[1;32m    456\u001b[0m     \u001b[0;32mif\u001b[0m \u001b[0mchunksize\u001b[0m \u001b[0;32mor\u001b[0m \u001b[0miterator\u001b[0m\u001b[0;34m:\u001b[0m\u001b[0;34m\u001b[0m\u001b[0;34m\u001b[0m\u001b[0m\n",
            "\u001b[0;32m/usr/local/lib/python3.7/dist-packages/pandas/io/parsers.py\u001b[0m in \u001b[0;36m__init__\u001b[0;34m(self, f, engine, **kwds)\u001b[0m\n\u001b[1;32m    946\u001b[0m             \u001b[0mself\u001b[0m\u001b[0;34m.\u001b[0m\u001b[0moptions\u001b[0m\u001b[0;34m[\u001b[0m\u001b[0;34m\"has_index_names\"\u001b[0m\u001b[0;34m]\u001b[0m \u001b[0;34m=\u001b[0m \u001b[0mkwds\u001b[0m\u001b[0;34m[\u001b[0m\u001b[0;34m\"has_index_names\"\u001b[0m\u001b[0;34m]\u001b[0m\u001b[0;34m\u001b[0m\u001b[0;34m\u001b[0m\u001b[0m\n\u001b[1;32m    947\u001b[0m \u001b[0;34m\u001b[0m\u001b[0m\n\u001b[0;32m--> 948\u001b[0;31m         \u001b[0mself\u001b[0m\u001b[0;34m.\u001b[0m\u001b[0m_make_engine\u001b[0m\u001b[0;34m(\u001b[0m\u001b[0mself\u001b[0m\u001b[0;34m.\u001b[0m\u001b[0mengine\u001b[0m\u001b[0;34m)\u001b[0m\u001b[0;34m\u001b[0m\u001b[0;34m\u001b[0m\u001b[0m\n\u001b[0m\u001b[1;32m    949\u001b[0m \u001b[0;34m\u001b[0m\u001b[0m\n\u001b[1;32m    950\u001b[0m     \u001b[0;32mdef\u001b[0m \u001b[0mclose\u001b[0m\u001b[0;34m(\u001b[0m\u001b[0mself\u001b[0m\u001b[0;34m)\u001b[0m\u001b[0;34m:\u001b[0m\u001b[0;34m\u001b[0m\u001b[0;34m\u001b[0m\u001b[0m\n",
            "\u001b[0;32m/usr/local/lib/python3.7/dist-packages/pandas/io/parsers.py\u001b[0m in \u001b[0;36m_make_engine\u001b[0;34m(self, engine)\u001b[0m\n\u001b[1;32m   1178\u001b[0m     \u001b[0;32mdef\u001b[0m \u001b[0m_make_engine\u001b[0m\u001b[0;34m(\u001b[0m\u001b[0mself\u001b[0m\u001b[0;34m,\u001b[0m \u001b[0mengine\u001b[0m\u001b[0;34m=\u001b[0m\u001b[0;34m\"c\"\u001b[0m\u001b[0;34m)\u001b[0m\u001b[0;34m:\u001b[0m\u001b[0;34m\u001b[0m\u001b[0;34m\u001b[0m\u001b[0m\n\u001b[1;32m   1179\u001b[0m         \u001b[0;32mif\u001b[0m \u001b[0mengine\u001b[0m \u001b[0;34m==\u001b[0m \u001b[0;34m\"c\"\u001b[0m\u001b[0;34m:\u001b[0m\u001b[0;34m\u001b[0m\u001b[0;34m\u001b[0m\u001b[0m\n\u001b[0;32m-> 1180\u001b[0;31m             \u001b[0mself\u001b[0m\u001b[0;34m.\u001b[0m\u001b[0m_engine\u001b[0m \u001b[0;34m=\u001b[0m \u001b[0mCParserWrapper\u001b[0m\u001b[0;34m(\u001b[0m\u001b[0mself\u001b[0m\u001b[0;34m.\u001b[0m\u001b[0mf\u001b[0m\u001b[0;34m,\u001b[0m \u001b[0;34m**\u001b[0m\u001b[0mself\u001b[0m\u001b[0;34m.\u001b[0m\u001b[0moptions\u001b[0m\u001b[0;34m)\u001b[0m\u001b[0;34m\u001b[0m\u001b[0;34m\u001b[0m\u001b[0m\n\u001b[0m\u001b[1;32m   1181\u001b[0m         \u001b[0;32melse\u001b[0m\u001b[0;34m:\u001b[0m\u001b[0;34m\u001b[0m\u001b[0;34m\u001b[0m\u001b[0m\n\u001b[1;32m   1182\u001b[0m             \u001b[0;32mif\u001b[0m \u001b[0mengine\u001b[0m \u001b[0;34m==\u001b[0m \u001b[0;34m\"python\"\u001b[0m\u001b[0;34m:\u001b[0m\u001b[0;34m\u001b[0m\u001b[0;34m\u001b[0m\u001b[0m\n",
            "\u001b[0;32m/usr/local/lib/python3.7/dist-packages/pandas/io/parsers.py\u001b[0m in \u001b[0;36m__init__\u001b[0;34m(self, src, **kwds)\u001b[0m\n\u001b[1;32m   2008\u001b[0m         \u001b[0mkwds\u001b[0m\u001b[0;34m[\u001b[0m\u001b[0;34m\"usecols\"\u001b[0m\u001b[0;34m]\u001b[0m \u001b[0;34m=\u001b[0m \u001b[0mself\u001b[0m\u001b[0;34m.\u001b[0m\u001b[0musecols\u001b[0m\u001b[0;34m\u001b[0m\u001b[0;34m\u001b[0m\u001b[0m\n\u001b[1;32m   2009\u001b[0m \u001b[0;34m\u001b[0m\u001b[0m\n\u001b[0;32m-> 2010\u001b[0;31m         \u001b[0mself\u001b[0m\u001b[0;34m.\u001b[0m\u001b[0m_reader\u001b[0m \u001b[0;34m=\u001b[0m \u001b[0mparsers\u001b[0m\u001b[0;34m.\u001b[0m\u001b[0mTextReader\u001b[0m\u001b[0;34m(\u001b[0m\u001b[0msrc\u001b[0m\u001b[0;34m,\u001b[0m \u001b[0;34m**\u001b[0m\u001b[0mkwds\u001b[0m\u001b[0;34m)\u001b[0m\u001b[0;34m\u001b[0m\u001b[0;34m\u001b[0m\u001b[0m\n\u001b[0m\u001b[1;32m   2011\u001b[0m         \u001b[0mself\u001b[0m\u001b[0;34m.\u001b[0m\u001b[0munnamed_cols\u001b[0m \u001b[0;34m=\u001b[0m \u001b[0mself\u001b[0m\u001b[0;34m.\u001b[0m\u001b[0m_reader\u001b[0m\u001b[0;34m.\u001b[0m\u001b[0munnamed_cols\u001b[0m\u001b[0;34m\u001b[0m\u001b[0;34m\u001b[0m\u001b[0m\n\u001b[1;32m   2012\u001b[0m \u001b[0;34m\u001b[0m\u001b[0m\n",
            "\u001b[0;32mpandas/_libs/parsers.pyx\u001b[0m in \u001b[0;36mpandas._libs.parsers.TextReader.__cinit__\u001b[0;34m()\u001b[0m\n",
            "\u001b[0;32mpandas/_libs/parsers.pyx\u001b[0m in \u001b[0;36mpandas._libs.parsers.TextReader._setup_parser_source\u001b[0;34m()\u001b[0m\n",
            "\u001b[0;31mFileNotFoundError\u001b[0m: [Errno 2] No such file or directory: '/content/creditcard.csv'"
          ]
        }
      ]
    },
    {
      "cell_type": "code",
      "metadata": {
        "colab": {
          "base_uri": "https://localhost:8080/",
          "height": 171
        },
        "id": "2siPPEkppMtw",
        "outputId": "f9157d20-6e0c-46f3-a0df-3edf65aa2ed0"
      },
      "source": [
        "df_card.shape"
      ],
      "execution_count": null,
      "outputs": [
        {
          "output_type": "error",
          "ename": "NameError",
          "evalue": "ignored",
          "traceback": [
            "\u001b[0;31m---------------------------------------------------------------------------\u001b[0m",
            "\u001b[0;31mNameError\u001b[0m                                 Traceback (most recent call last)",
            "\u001b[0;32m<ipython-input-7-ca705298ae06>\u001b[0m in \u001b[0;36m<module>\u001b[0;34m()\u001b[0m\n\u001b[0;32m----> 1\u001b[0;31m \u001b[0mdf_card\u001b[0m\u001b[0;34m.\u001b[0m\u001b[0mshape\u001b[0m\u001b[0;34m\u001b[0m\u001b[0;34m\u001b[0m\u001b[0m\n\u001b[0m",
            "\u001b[0;31mNameError\u001b[0m: name 'df_card' is not defined"
          ]
        }
      ]
    },
    {
      "cell_type": "code",
      "metadata": {
        "colab": {
          "base_uri": "https://localhost:8080/",
          "height": 319
        },
        "id": "-QQLtKkMpQ7S",
        "outputId": "f478cd72-6f62-4085-8131-24ef76649170"
      },
      "source": [
        "df_card.describe()"
      ],
      "execution_count": null,
      "outputs": [
        {
          "output_type": "execute_result",
          "data": {
            "text/html": [
              "<div>\n",
              "<style scoped>\n",
              "    .dataframe tbody tr th:only-of-type {\n",
              "        vertical-align: middle;\n",
              "    }\n",
              "\n",
              "    .dataframe tbody tr th {\n",
              "        vertical-align: top;\n",
              "    }\n",
              "\n",
              "    .dataframe thead th {\n",
              "        text-align: right;\n",
              "    }\n",
              "</style>\n",
              "<table border=\"1\" class=\"dataframe\">\n",
              "  <thead>\n",
              "    <tr style=\"text-align: right;\">\n",
              "      <th></th>\n",
              "      <th>Time</th>\n",
              "      <th>V1</th>\n",
              "      <th>V2</th>\n",
              "      <th>V3</th>\n",
              "      <th>V4</th>\n",
              "      <th>V5</th>\n",
              "      <th>V6</th>\n",
              "      <th>V7</th>\n",
              "      <th>V8</th>\n",
              "      <th>V9</th>\n",
              "      <th>V10</th>\n",
              "      <th>V11</th>\n",
              "      <th>V12</th>\n",
              "      <th>V13</th>\n",
              "      <th>V14</th>\n",
              "      <th>V15</th>\n",
              "      <th>V16</th>\n",
              "      <th>V17</th>\n",
              "      <th>V18</th>\n",
              "      <th>V19</th>\n",
              "      <th>V20</th>\n",
              "      <th>V21</th>\n",
              "      <th>V22</th>\n",
              "      <th>V23</th>\n",
              "      <th>V24</th>\n",
              "      <th>V25</th>\n",
              "      <th>V26</th>\n",
              "      <th>V27</th>\n",
              "      <th>V28</th>\n",
              "      <th>Amount</th>\n",
              "      <th>Class</th>\n",
              "    </tr>\n",
              "  </thead>\n",
              "  <tbody>\n",
              "    <tr>\n",
              "      <th>count</th>\n",
              "      <td>284807.0000</td>\n",
              "      <td>284807.0000</td>\n",
              "      <td>284807.0000</td>\n",
              "      <td>284807.0000</td>\n",
              "      <td>284807.0000</td>\n",
              "      <td>284807.0000</td>\n",
              "      <td>284807.0000</td>\n",
              "      <td>284807.0000</td>\n",
              "      <td>284807.0000</td>\n",
              "      <td>284807.0000</td>\n",
              "      <td>284807.0000</td>\n",
              "      <td>284807.0000</td>\n",
              "      <td>284807.0000</td>\n",
              "      <td>284807.0000</td>\n",
              "      <td>284807.0000</td>\n",
              "      <td>284807.0000</td>\n",
              "      <td>284807.0000</td>\n",
              "      <td>284807.0000</td>\n",
              "      <td>284807.0000</td>\n",
              "      <td>284807.0000</td>\n",
              "      <td>284807.0000</td>\n",
              "      <td>284807.0000</td>\n",
              "      <td>284807.0000</td>\n",
              "      <td>284807.0000</td>\n",
              "      <td>284807.0000</td>\n",
              "      <td>284807.0000</td>\n",
              "      <td>284807.0000</td>\n",
              "      <td>284807.0000</td>\n",
              "      <td>284807.0000</td>\n",
              "      <td>284807.0000</td>\n",
              "      <td>284807.0000</td>\n",
              "    </tr>\n",
              "    <tr>\n",
              "      <th>mean</th>\n",
              "      <td>94813.8596</td>\n",
              "      <td>0.0000</td>\n",
              "      <td>0.0000</td>\n",
              "      <td>-0.0000</td>\n",
              "      <td>0.0000</td>\n",
              "      <td>-0.0000</td>\n",
              "      <td>0.0000</td>\n",
              "      <td>-0.0000</td>\n",
              "      <td>-0.0000</td>\n",
              "      <td>-0.0000</td>\n",
              "      <td>0.0000</td>\n",
              "      <td>0.0000</td>\n",
              "      <td>-0.0000</td>\n",
              "      <td>0.0000</td>\n",
              "      <td>0.0000</td>\n",
              "      <td>0.0000</td>\n",
              "      <td>0.0000</td>\n",
              "      <td>-0.0000</td>\n",
              "      <td>0.0000</td>\n",
              "      <td>0.0000</td>\n",
              "      <td>0.0000</td>\n",
              "      <td>0.0000</td>\n",
              "      <td>0.0000</td>\n",
              "      <td>0.0000</td>\n",
              "      <td>0.0000</td>\n",
              "      <td>0.0000</td>\n",
              "      <td>0.0000</td>\n",
              "      <td>-0.0000</td>\n",
              "      <td>-0.0000</td>\n",
              "      <td>88.3496</td>\n",
              "      <td>0.0017</td>\n",
              "    </tr>\n",
              "    <tr>\n",
              "      <th>std</th>\n",
              "      <td>47488.1460</td>\n",
              "      <td>1.9587</td>\n",
              "      <td>1.6513</td>\n",
              "      <td>1.5163</td>\n",
              "      <td>1.4159</td>\n",
              "      <td>1.3802</td>\n",
              "      <td>1.3323</td>\n",
              "      <td>1.2371</td>\n",
              "      <td>1.1944</td>\n",
              "      <td>1.0986</td>\n",
              "      <td>1.0888</td>\n",
              "      <td>1.0207</td>\n",
              "      <td>0.9992</td>\n",
              "      <td>0.9953</td>\n",
              "      <td>0.9586</td>\n",
              "      <td>0.9153</td>\n",
              "      <td>0.8763</td>\n",
              "      <td>0.8493</td>\n",
              "      <td>0.8382</td>\n",
              "      <td>0.8140</td>\n",
              "      <td>0.7709</td>\n",
              "      <td>0.7345</td>\n",
              "      <td>0.7257</td>\n",
              "      <td>0.6245</td>\n",
              "      <td>0.6056</td>\n",
              "      <td>0.5213</td>\n",
              "      <td>0.4822</td>\n",
              "      <td>0.4036</td>\n",
              "      <td>0.3301</td>\n",
              "      <td>250.1201</td>\n",
              "      <td>0.0415</td>\n",
              "    </tr>\n",
              "    <tr>\n",
              "      <th>min</th>\n",
              "      <td>0.0000</td>\n",
              "      <td>-56.4075</td>\n",
              "      <td>-72.7157</td>\n",
              "      <td>-48.3256</td>\n",
              "      <td>-5.6832</td>\n",
              "      <td>-113.7433</td>\n",
              "      <td>-26.1605</td>\n",
              "      <td>-43.5572</td>\n",
              "      <td>-73.2167</td>\n",
              "      <td>-13.4341</td>\n",
              "      <td>-24.5883</td>\n",
              "      <td>-4.7975</td>\n",
              "      <td>-18.6837</td>\n",
              "      <td>-5.7919</td>\n",
              "      <td>-19.2143</td>\n",
              "      <td>-4.4989</td>\n",
              "      <td>-14.1299</td>\n",
              "      <td>-25.1628</td>\n",
              "      <td>-9.4987</td>\n",
              "      <td>-7.2135</td>\n",
              "      <td>-54.4977</td>\n",
              "      <td>-34.8304</td>\n",
              "      <td>-10.9331</td>\n",
              "      <td>-44.8077</td>\n",
              "      <td>-2.8366</td>\n",
              "      <td>-10.2954</td>\n",
              "      <td>-2.6046</td>\n",
              "      <td>-22.5657</td>\n",
              "      <td>-15.4301</td>\n",
              "      <td>0.0000</td>\n",
              "      <td>0.0000</td>\n",
              "    </tr>\n",
              "    <tr>\n",
              "      <th>25%</th>\n",
              "      <td>54201.5000</td>\n",
              "      <td>-0.9204</td>\n",
              "      <td>-0.5985</td>\n",
              "      <td>-0.8904</td>\n",
              "      <td>-0.8486</td>\n",
              "      <td>-0.6916</td>\n",
              "      <td>-0.7683</td>\n",
              "      <td>-0.5541</td>\n",
              "      <td>-0.2086</td>\n",
              "      <td>-0.6431</td>\n",
              "      <td>-0.5354</td>\n",
              "      <td>-0.7625</td>\n",
              "      <td>-0.4056</td>\n",
              "      <td>-0.6485</td>\n",
              "      <td>-0.4256</td>\n",
              "      <td>-0.5829</td>\n",
              "      <td>-0.4680</td>\n",
              "      <td>-0.4837</td>\n",
              "      <td>-0.4988</td>\n",
              "      <td>-0.4563</td>\n",
              "      <td>-0.2117</td>\n",
              "      <td>-0.2284</td>\n",
              "      <td>-0.5424</td>\n",
              "      <td>-0.1618</td>\n",
              "      <td>-0.3546</td>\n",
              "      <td>-0.3171</td>\n",
              "      <td>-0.3270</td>\n",
              "      <td>-0.0708</td>\n",
              "      <td>-0.0530</td>\n",
              "      <td>5.6000</td>\n",
              "      <td>0.0000</td>\n",
              "    </tr>\n",
              "    <tr>\n",
              "      <th>50%</th>\n",
              "      <td>84692.0000</td>\n",
              "      <td>0.0181</td>\n",
              "      <td>0.0655</td>\n",
              "      <td>0.1798</td>\n",
              "      <td>-0.0198</td>\n",
              "      <td>-0.0543</td>\n",
              "      <td>-0.2742</td>\n",
              "      <td>0.0401</td>\n",
              "      <td>0.0224</td>\n",
              "      <td>-0.0514</td>\n",
              "      <td>-0.0929</td>\n",
              "      <td>-0.0328</td>\n",
              "      <td>0.1400</td>\n",
              "      <td>-0.0136</td>\n",
              "      <td>0.0506</td>\n",
              "      <td>0.0481</td>\n",
              "      <td>0.0664</td>\n",
              "      <td>-0.0657</td>\n",
              "      <td>-0.0036</td>\n",
              "      <td>0.0037</td>\n",
              "      <td>-0.0625</td>\n",
              "      <td>-0.0295</td>\n",
              "      <td>0.0068</td>\n",
              "      <td>-0.0112</td>\n",
              "      <td>0.0410</td>\n",
              "      <td>0.0166</td>\n",
              "      <td>-0.0521</td>\n",
              "      <td>0.0013</td>\n",
              "      <td>0.0112</td>\n",
              "      <td>22.0000</td>\n",
              "      <td>0.0000</td>\n",
              "    </tr>\n",
              "    <tr>\n",
              "      <th>75%</th>\n",
              "      <td>139320.5000</td>\n",
              "      <td>1.3156</td>\n",
              "      <td>0.8037</td>\n",
              "      <td>1.0272</td>\n",
              "      <td>0.7433</td>\n",
              "      <td>0.6119</td>\n",
              "      <td>0.3986</td>\n",
              "      <td>0.5704</td>\n",
              "      <td>0.3273</td>\n",
              "      <td>0.5971</td>\n",
              "      <td>0.4539</td>\n",
              "      <td>0.7396</td>\n",
              "      <td>0.6182</td>\n",
              "      <td>0.6625</td>\n",
              "      <td>0.4931</td>\n",
              "      <td>0.6488</td>\n",
              "      <td>0.5233</td>\n",
              "      <td>0.3997</td>\n",
              "      <td>0.5008</td>\n",
              "      <td>0.4589</td>\n",
              "      <td>0.1330</td>\n",
              "      <td>0.1864</td>\n",
              "      <td>0.5286</td>\n",
              "      <td>0.1476</td>\n",
              "      <td>0.4395</td>\n",
              "      <td>0.3507</td>\n",
              "      <td>0.2410</td>\n",
              "      <td>0.0910</td>\n",
              "      <td>0.0783</td>\n",
              "      <td>77.1650</td>\n",
              "      <td>0.0000</td>\n",
              "    </tr>\n",
              "    <tr>\n",
              "      <th>max</th>\n",
              "      <td>172792.0000</td>\n",
              "      <td>2.4549</td>\n",
              "      <td>22.0577</td>\n",
              "      <td>9.3826</td>\n",
              "      <td>16.8753</td>\n",
              "      <td>34.8017</td>\n",
              "      <td>73.3016</td>\n",
              "      <td>120.5895</td>\n",
              "      <td>20.0072</td>\n",
              "      <td>15.5950</td>\n",
              "      <td>23.7451</td>\n",
              "      <td>12.0189</td>\n",
              "      <td>7.8484</td>\n",
              "      <td>7.1269</td>\n",
              "      <td>10.5268</td>\n",
              "      <td>8.8777</td>\n",
              "      <td>17.3151</td>\n",
              "      <td>9.2535</td>\n",
              "      <td>5.0411</td>\n",
              "      <td>5.5920</td>\n",
              "      <td>39.4209</td>\n",
              "      <td>27.2028</td>\n",
              "      <td>10.5031</td>\n",
              "      <td>22.5284</td>\n",
              "      <td>4.5845</td>\n",
              "      <td>7.5196</td>\n",
              "      <td>3.5173</td>\n",
              "      <td>31.6122</td>\n",
              "      <td>33.8478</td>\n",
              "      <td>25691.1600</td>\n",
              "      <td>1.0000</td>\n",
              "    </tr>\n",
              "  </tbody>\n",
              "</table>\n",
              "</div>"
            ],
            "text/plain": [
              "             Time          V1          V2          V3          V4          V5  \\\n",
              "count 284807.0000 284807.0000 284807.0000 284807.0000 284807.0000 284807.0000   \n",
              "mean  94813.8596  0.0000      0.0000      -0.0000     0.0000      -0.0000       \n",
              "std   47488.1460  1.9587      1.6513      1.5163      1.4159      1.3802        \n",
              "min   0.0000      -56.4075    -72.7157    -48.3256    -5.6832     -113.7433     \n",
              "25%   54201.5000  -0.9204     -0.5985     -0.8904     -0.8486     -0.6916       \n",
              "50%   84692.0000  0.0181      0.0655      0.1798      -0.0198     -0.0543       \n",
              "75%   139320.5000 1.3156      0.8037      1.0272      0.7433      0.6119        \n",
              "max   172792.0000 2.4549      22.0577     9.3826      16.8753     34.8017       \n",
              "\n",
              "               V6          V7          V8          V9         V10         V11  \\\n",
              "count 284807.0000 284807.0000 284807.0000 284807.0000 284807.0000 284807.0000   \n",
              "mean  0.0000      -0.0000     -0.0000     -0.0000     0.0000      0.0000        \n",
              "std   1.3323      1.2371      1.1944      1.0986      1.0888      1.0207        \n",
              "min   -26.1605    -43.5572    -73.2167    -13.4341    -24.5883    -4.7975       \n",
              "25%   -0.7683     -0.5541     -0.2086     -0.6431     -0.5354     -0.7625       \n",
              "50%   -0.2742     0.0401      0.0224      -0.0514     -0.0929     -0.0328       \n",
              "75%   0.3986      0.5704      0.3273      0.5971      0.4539      0.7396        \n",
              "max   73.3016     120.5895    20.0072     15.5950     23.7451     12.0189       \n",
              "\n",
              "              V12         V13         V14         V15         V16         V17  \\\n",
              "count 284807.0000 284807.0000 284807.0000 284807.0000 284807.0000 284807.0000   \n",
              "mean  -0.0000     0.0000      0.0000      0.0000      0.0000      -0.0000       \n",
              "std   0.9992      0.9953      0.9586      0.9153      0.8763      0.8493        \n",
              "min   -18.6837    -5.7919     -19.2143    -4.4989     -14.1299    -25.1628      \n",
              "25%   -0.4056     -0.6485     -0.4256     -0.5829     -0.4680     -0.4837       \n",
              "50%   0.1400      -0.0136     0.0506      0.0481      0.0664      -0.0657       \n",
              "75%   0.6182      0.6625      0.4931      0.6488      0.5233      0.3997        \n",
              "max   7.8484      7.1269      10.5268     8.8777      17.3151     9.2535        \n",
              "\n",
              "              V18         V19         V20         V21         V22         V23  \\\n",
              "count 284807.0000 284807.0000 284807.0000 284807.0000 284807.0000 284807.0000   \n",
              "mean  0.0000      0.0000      0.0000      0.0000      0.0000      0.0000        \n",
              "std   0.8382      0.8140      0.7709      0.7345      0.7257      0.6245        \n",
              "min   -9.4987     -7.2135     -54.4977    -34.8304    -10.9331    -44.8077      \n",
              "25%   -0.4988     -0.4563     -0.2117     -0.2284     -0.5424     -0.1618       \n",
              "50%   -0.0036     0.0037      -0.0625     -0.0295     0.0068      -0.0112       \n",
              "75%   0.5008      0.4589      0.1330      0.1864      0.5286      0.1476        \n",
              "max   5.0411      5.5920      39.4209     27.2028     10.5031     22.5284       \n",
              "\n",
              "              V24         V25         V26         V27         V28      Amount  \\\n",
              "count 284807.0000 284807.0000 284807.0000 284807.0000 284807.0000 284807.0000   \n",
              "mean  0.0000      0.0000      0.0000      -0.0000     -0.0000     88.3496       \n",
              "std   0.6056      0.5213      0.4822      0.4036      0.3301      250.1201      \n",
              "min   -2.8366     -10.2954    -2.6046     -22.5657    -15.4301    0.0000        \n",
              "25%   -0.3546     -0.3171     -0.3270     -0.0708     -0.0530     5.6000        \n",
              "50%   0.0410      0.0166      -0.0521     0.0013      0.0112      22.0000       \n",
              "75%   0.4395      0.3507      0.2410      0.0910      0.0783      77.1650       \n",
              "max   4.5845      7.5196      3.5173      31.6122     33.8478     25691.1600    \n",
              "\n",
              "            Class  \n",
              "count 284807.0000  \n",
              "mean  0.0017       \n",
              "std   0.0415       \n",
              "min   0.0000       \n",
              "25%   0.0000       \n",
              "50%   0.0000       \n",
              "75%   0.0000       \n",
              "max   1.0000       "
            ]
          },
          "metadata": {
            "tags": []
          },
          "execution_count": 11
        }
      ]
    },
    {
      "cell_type": "code",
      "metadata": {
        "colab": {
          "base_uri": "https://localhost:8080/"
        },
        "id": "oJJwOpYtpfUM",
        "outputId": "62245520-e554-4d53-8fef-24cc442447c3"
      },
      "source": [
        "# Data Information\n",
        "\n",
        "df_card.info()"
      ],
      "execution_count": null,
      "outputs": [
        {
          "output_type": "stream",
          "text": [
            "<class 'pandas.core.frame.DataFrame'>\n",
            "RangeIndex: 284807 entries, 0 to 284806\n",
            "Data columns (total 31 columns):\n",
            " #   Column  Non-Null Count   Dtype  \n",
            "---  ------  --------------   -----  \n",
            " 0   Time    284807 non-null  float64\n",
            " 1   V1      284807 non-null  float64\n",
            " 2   V2      284807 non-null  float64\n",
            " 3   V3      284807 non-null  float64\n",
            " 4   V4      284807 non-null  float64\n",
            " 5   V5      284807 non-null  float64\n",
            " 6   V6      284807 non-null  float64\n",
            " 7   V7      284807 non-null  float64\n",
            " 8   V8      284807 non-null  float64\n",
            " 9   V9      284807 non-null  float64\n",
            " 10  V10     284807 non-null  float64\n",
            " 11  V11     284807 non-null  float64\n",
            " 12  V12     284807 non-null  float64\n",
            " 13  V13     284807 non-null  float64\n",
            " 14  V14     284807 non-null  float64\n",
            " 15  V15     284807 non-null  float64\n",
            " 16  V16     284807 non-null  float64\n",
            " 17  V17     284807 non-null  float64\n",
            " 18  V18     284807 non-null  float64\n",
            " 19  V19     284807 non-null  float64\n",
            " 20  V20     284807 non-null  float64\n",
            " 21  V21     284807 non-null  float64\n",
            " 22  V22     284807 non-null  float64\n",
            " 23  V23     284807 non-null  float64\n",
            " 24  V24     284807 non-null  float64\n",
            " 25  V25     284807 non-null  float64\n",
            " 26  V26     284807 non-null  float64\n",
            " 27  V27     284807 non-null  float64\n",
            " 28  V28     284807 non-null  float64\n",
            " 29  Amount  284807 non-null  float64\n",
            " 30  Class   284807 non-null  int64  \n",
            "dtypes: float64(30), int64(1)\n",
            "memory usage: 67.4 MB\n"
          ],
          "name": "stdout"
        }
      ]
    },
    {
      "cell_type": "code",
      "metadata": {
        "colab": {
          "base_uri": "https://localhost:8080/"
        },
        "id": "ohGo3DtHpwqB",
        "outputId": "ce7b9bc4-253f-4ff9-d3aa-823babdbd8fe"
      },
      "source": [
        "# Calculating the Missing Value% in the DF\n",
        "\n",
        "df_null = df_card.isnull().mean()*100\n",
        "df_null.sort_values(ascending=False).head()"
      ],
      "execution_count": null,
      "outputs": [
        {
          "output_type": "execute_result",
          "data": {
            "text/plain": [
              "Class   0.0000\n",
              "V14     0.0000\n",
              "V1      0.0000\n",
              "V2      0.0000\n",
              "V3      0.0000\n",
              "dtype: float64"
            ]
          },
          "metadata": {
            "tags": []
          },
          "execution_count": 13
        }
      ]
    },
    {
      "cell_type": "code",
      "metadata": {
        "colab": {
          "base_uri": "https://localhost:8080/"
        },
        "id": "iIV_eSXHqADA",
        "outputId": "818d99d6-7d93-405d-c59e-e1b0752a748a"
      },
      "source": [
        "# Datatype check for the dataframe\n",
        "\n",
        "df_card.dtypes"
      ],
      "execution_count": null,
      "outputs": [
        {
          "output_type": "execute_result",
          "data": {
            "text/plain": [
              "Time      float64\n",
              "V1        float64\n",
              "V2        float64\n",
              "V3        float64\n",
              "V4        float64\n",
              "V5        float64\n",
              "V6        float64\n",
              "V7        float64\n",
              "V8        float64\n",
              "V9        float64\n",
              "V10       float64\n",
              "V11       float64\n",
              "V12       float64\n",
              "V13       float64\n",
              "V14       float64\n",
              "V15       float64\n",
              "V16       float64\n",
              "V17       float64\n",
              "V18       float64\n",
              "V19       float64\n",
              "V20       float64\n",
              "V21       float64\n",
              "V22       float64\n",
              "V23       float64\n",
              "V24       float64\n",
              "V25       float64\n",
              "V26       float64\n",
              "V27       float64\n",
              "V28       float64\n",
              "Amount    float64\n",
              "Class     int64  \n",
              "dtype: object"
            ]
          },
          "metadata": {
            "tags": []
          },
          "execution_count": 14
        }
      ]
    },
    {
      "cell_type": "code",
      "metadata": {
        "colab": {
          "base_uri": "https://localhost:8080/",
          "height": 445
        },
        "id": "xo0bm7ybqLZX",
        "outputId": "83bf0d03-8d4e-478b-8458-d21d3ff3ac59"
      },
      "source": [
        "plt.figure(figsize=(13,7))\n",
        "plt.subplot(121)\n",
        "plt.title('Fraudulent BarPlot', fontweight='bold',fontsize=14)\n",
        "ax = df_card['Class'].value_counts().plot(kind='bar')\n",
        "total = float(len(df_card))\n",
        "for p in ax.patches:\n",
        "    height = p.get_height()\n",
        "    ax.text(p.get_x()+p.get_width()/2.,\n",
        "            height + 3,\n",
        "            '{:1.5f}'.format(height/total),\n",
        "            ha=\"center\") \n",
        "\n",
        "\n",
        "plt.subplot(122)\n",
        "df_card[\"Class\"].value_counts().plot.pie(autopct = \"%1.5f%%\")\n",
        "plt.show()"
      ],
      "execution_count": null,
      "outputs": [
        {
          "output_type": "display_data",
          "data": {
            "image/png": "[encoded data removed]",
            "text/plain": [
              "<Figure size 936x504 with 2 Axes>"
            ]
          },
          "metadata": {
            "tags": [],
            "needs_background": "light"
          }
        }
      ]
    },
    {
      "cell_type": "code",
      "metadata": {
        "colab": {
          "base_uri": "https://localhost:8080/"
        },
        "id": "nXKH8oYgqkJA",
        "outputId": "75d2e5d2-3ad6-4daf-e645-53170854a90e"
      },
      "source": [
        "classes=df_card['Class'].value_counts()\n",
        "normal_share=classes[0]/df_card['Class'].count()*100\n",
        "fraud_share=classes[1]/df_card['Class'].count()*100\n",
        "print(normal_share)\n",
        "print(fraud_share)"
      ],
      "execution_count": null,
      "outputs": [
        {
          "output_type": "stream",
          "text": [
            "99.82725143693798\n",
            "0.1727485630620034\n"
          ],
          "name": "stdout"
        }
      ]
    },
    {
      "cell_type": "code",
      "metadata": {
        "colab": {
          "base_uri": "https://localhost:8080/",
          "height": 415
        },
        "id": "bRd3NUpGrGy1",
        "outputId": "0abbbaaf-5765-4956-ffb6-23fc899f8318"
      },
      "source": [
        "# Box Plot of amount for both classes\n",
        "plt.figure(figsize = (7, 6))\n",
        "a=sns.boxplot(x = 'Class', y = 'Amount',hue='Class', data = df_card,showfliers=False) \n",
        "plt.setp(a.get_xticklabels(), rotation=45)"
      ],
      "execution_count": null,
      "outputs": [
        {
          "output_type": "execute_result",
          "data": {
            "text/plain": [
              "[None, None, None, None]"
            ]
          },
          "metadata": {
            "tags": []
          },
          "execution_count": 17
        },
        {
          "output_type": "display_data",
          "data": {
            "image/png": "[encoded data removed]",
            "text/plain": [
              "<Figure size 504x432 with 1 Axes>"
            ]
          },
          "metadata": {
            "tags": [],
            "needs_background": "light"
          }
        }
      ]
    },
    {
      "cell_type": "code",
      "metadata": {
        "colab": {
          "base_uri": "https://localhost:8080/",
          "height": 428
        },
        "id": "UmxM_yuQrX8G",
        "outputId": "89adf493-2e2a-499a-959f-2fd161195f58"
      },
      "source": [
        "# KDE plot to visualize the distribution of Amount for both the classes\n",
        "plt.rcParams['figure.figsize'] = [10,6]\n",
        "sns.kdeplot(df_card.loc[df_card['Class'] == 0, 'Amount'], label = 'Non Fraud')\n",
        "sns.kdeplot(df_card.loc[df_card['Class'] == 1, 'Amount'], label = 'Fraud')\n",
        "plt.title('Distribution of Amount by Target Value')\n",
        "plt.xlabel('Amount')\n",
        "plt.ylabel('Density')"
      ],
      "execution_count": null,
      "outputs": [
        {
          "output_type": "execute_result",
          "data": {
            "text/plain": [
              "Text(0, 0.5, 'Density')"
            ]
          },
          "metadata": {
            "tags": []
          },
          "execution_count": 18
        },
        {
          "output_type": "display_data",
          "data": {
            "image/png": "[encoded data removed]",
            "text/plain": [
              "<Figure size 720x432 with 1 Axes>"
            ]
          },
          "metadata": {
            "tags": [],
            "needs_background": "light"
          }
        }
      ]
    },
    {
      "cell_type": "code",
      "metadata": {
        "colab": {
          "base_uri": "https://localhost:8080/",
          "height": 423
        },
        "id": "zYBRjWNyroT2",
        "outputId": "2e187ca0-b74a-4412-82af-4dfbafba4469"
      },
      "source": [
        "# Time Distribution plot for transactions \n",
        "plt.figure(figsize=(15,7))\n",
        "\n",
        "plt.title('Distribution of Transaction Time')\n",
        "sns.distplot(df_card['Time'].values/(60*60))"
      ],
      "execution_count": null,
      "outputs": [
        {
          "output_type": "execute_result",
          "data": {
            "text/plain": [
              "<matplotlib.axes._subplots.AxesSubplot at 0x7fc5d49af410>"
            ]
          },
          "metadata": {
            "tags": []
          },
          "execution_count": 19
        },
        {
          "output_type": "display_data",
          "data": {
            "image/png": "[encoded data removed]",
            "text/plain": [
              "<Figure size 1080x504 with 1 Axes>"
            ]
          },
          "metadata": {
            "tags": [],
            "needs_background": "light"
          }
        }
      ]
    },
    {
      "cell_type": "code",
      "metadata": {
        "id": "5NircfwAr0_j"
      },
      "source": [
        "# Storing Fraud and non-Fraud transactions \n",
        "\n",
        "df_nonfraud = df_card[df_card.Class == 0]\n",
        "df_fraud = df_card[df_card.Class == 1]"
      ],
      "execution_count": null,
      "outputs": []
    },
    {
      "cell_type": "code",
      "metadata": {
        "colab": {
          "base_uri": "https://localhost:8080/",
          "height": 518
        },
        "id": "aKn-mORQr6hF",
        "outputId": "d937701a-02c2-4bd5-f7a5-2e8e4fbcbd37"
      },
      "source": [
        "#Scatter plot between Time and Amount\n",
        "\n",
        "fig = plt.figure(figsize = (8,8))\n",
        "plt.scatter(df_nonfraud.Amount, df_nonfraud.Time.values/(60*60),alpha=0.5,label='Non Fraud')\n",
        "plt.scatter(df_fraud.Amount, df_fraud.Time.values/(60*60),alpha=1,label='Fraud')\n",
        "plt.xlabel('Amount')\n",
        "plt.ylabel('Time')\n",
        "plt.title('Scatter plot between Amount and Time ')\n",
        "plt.show()"
      ],
      "execution_count": null,
      "outputs": [
        {
          "output_type": "display_data",
          "data": {
            "image/png": "[encoded data removed]",
            "text/plain": [
              "<Figure size 576x576 with 1 Axes>"
            ]
          },
          "metadata": {
            "tags": [],
            "needs_background": "light"
          }
        }
      ]
    },
    {
      "cell_type": "code",
      "metadata": {
        "colab": {
          "base_uri": "https://localhost:8080/",
          "height": 410
        },
        "id": "6qmThyjxsJM5",
        "outputId": "3a8d3117-24bb-4f69-b5a4-9bbd0e6a8185"
      },
      "source": [
        "# Plot of high value transactions($200-$2000)\n",
        "\n",
        "bins = np.linspace(200, 2000, 100)\n",
        "plt.hist(df_nonfraud.Amount, bins, alpha=1, density=True, label='Non-Fraud')\n",
        "plt.hist(df_fraud.Amount, bins, alpha=1, density=True, label='Fraud')\n",
        "plt.legend(loc='upper right')\n",
        "plt.title(\"Amount by percentage of transactions (transactions \\$200-$2000)\")\n",
        "plt.xlabel(\"Transaction amount (USD)\")\n",
        "plt.ylabel(\"Percentage of transactions (%)\")\n",
        "plt.show()\n"
      ],
      "execution_count": null,
      "outputs": [
        {
          "output_type": "display_data",
          "data": {
            "image/png": "[encoded data removed]",
            "text/plain": [
              "<Figure size 720x432 with 1 Axes>"
            ]
          },
          "metadata": {
            "tags": [],
            "needs_background": "light"
          }
        }
      ]
    },
    {
      "cell_type": "code",
      "metadata": {
        "colab": {
          "base_uri": "https://localhost:8080/",
          "height": 410
        },
        "id": "DI7guGICseUM",
        "outputId": "0879a3d9-20b6-4b79-df95-f7ba2a11e151"
      },
      "source": [
        "# Plot of transactions in 48 hours\n",
        "\n",
        "bins = np.linspace(0, 48, 48)\n",
        "plt.hist((df_nonfraud.Time/(60*60)), bins, alpha=1,label='Non-Fraud')\n",
        "plt.hist((df_fraud.Time/(60*60)), bins, alpha=0.6,label='Fraud')\n",
        "plt.legend(loc='upper right')\n",
        "plt.title(\"Percentage of transactions by hour\")\n",
        "plt.xlabel(\"Transaction time from first transaction in the dataset (hours)\")\n",
        "plt.ylabel(\"Percentage of transactions (%)\")\n",
        "plt.show()"
      ],
      "execution_count": null,
      "outputs": [
        {
          "output_type": "display_data",
          "data": {
            "image/png": "[encoded data removed]",
            "text/plain": [
              "<Figure size 720x432 with 1 Axes>"
            ]
          },
          "metadata": {
            "tags": [],
            "needs_background": "light"
          }
        }
      ]
    },
    {
      "cell_type": "code",
      "metadata": {
        "colab": {
          "base_uri": "https://localhost:8080/",
          "height": 132
        },
        "id": "NzlsWFextD0W",
        "outputId": "6ac073f9-3fc3-47f9-e0b1-b25c6a2ee6cd"
      },
      "source": [
        "# Putting the feature variable into X\n",
        "\n",
        "X = df_card.drop(['Class'],axis = 1)\n",
        "X.head(2)"
      ],
      "execution_count": null,
      "outputs": [
        {
          "output_type": "execute_result",
          "data": {
            "text/html": [
              "<div>\n",
              "<style scoped>\n",
              "    .dataframe tbody tr th:only-of-type {\n",
              "        vertical-align: middle;\n",
              "    }\n",
              "\n",
              "    .dataframe tbody tr th {\n",
              "        vertical-align: top;\n",
              "    }\n",
              "\n",
              "    .dataframe thead th {\n",
              "        text-align: right;\n",
              "    }\n",
              "</style>\n",
              "<table border=\"1\" class=\"dataframe\">\n",
              "  <thead>\n",
              "    <tr style=\"text-align: right;\">\n",
              "      <th></th>\n",
              "      <th>Time</th>\n",
              "      <th>V1</th>\n",
              "      <th>V2</th>\n",
              "      <th>V3</th>\n",
              "      <th>V4</th>\n",
              "      <th>V5</th>\n",
              "      <th>V6</th>\n",
              "      <th>V7</th>\n",
              "      <th>V8</th>\n",
              "      <th>V9</th>\n",
              "      <th>V10</th>\n",
              "      <th>V11</th>\n",
              "      <th>V12</th>\n",
              "      <th>V13</th>\n",
              "      <th>V14</th>\n",
              "      <th>V15</th>\n",
              "      <th>V16</th>\n",
              "      <th>V17</th>\n",
              "      <th>V18</th>\n",
              "      <th>V19</th>\n",
              "      <th>V20</th>\n",
              "      <th>V21</th>\n",
              "      <th>V22</th>\n",
              "      <th>V23</th>\n",
              "      <th>V24</th>\n",
              "      <th>V25</th>\n",
              "      <th>V26</th>\n",
              "      <th>V27</th>\n",
              "      <th>V28</th>\n",
              "      <th>Amount</th>\n",
              "    </tr>\n",
              "  </thead>\n",
              "  <tbody>\n",
              "    <tr>\n",
              "      <th>0</th>\n",
              "      <td>0.0000</td>\n",
              "      <td>-1.3598</td>\n",
              "      <td>-0.0728</td>\n",
              "      <td>2.5363</td>\n",
              "      <td>1.3782</td>\n",
              "      <td>-0.3383</td>\n",
              "      <td>0.4624</td>\n",
              "      <td>0.2396</td>\n",
              "      <td>0.0987</td>\n",
              "      <td>0.3638</td>\n",
              "      <td>0.0908</td>\n",
              "      <td>-0.5516</td>\n",
              "      <td>-0.6178</td>\n",
              "      <td>-0.9914</td>\n",
              "      <td>-0.3112</td>\n",
              "      <td>1.4682</td>\n",
              "      <td>-0.4704</td>\n",
              "      <td>0.2080</td>\n",
              "      <td>0.0258</td>\n",
              "      <td>0.4040</td>\n",
              "      <td>0.2514</td>\n",
              "      <td>-0.0183</td>\n",
              "      <td>0.2778</td>\n",
              "      <td>-0.1105</td>\n",
              "      <td>0.0669</td>\n",
              "      <td>0.1285</td>\n",
              "      <td>-0.1891</td>\n",
              "      <td>0.1336</td>\n",
              "      <td>-0.0211</td>\n",
              "      <td>149.6200</td>\n",
              "    </tr>\n",
              "    <tr>\n",
              "      <th>1</th>\n",
              "      <td>0.0000</td>\n",
              "      <td>1.1919</td>\n",
              "      <td>0.2662</td>\n",
              "      <td>0.1665</td>\n",
              "      <td>0.4482</td>\n",
              "      <td>0.0600</td>\n",
              "      <td>-0.0824</td>\n",
              "      <td>-0.0788</td>\n",
              "      <td>0.0851</td>\n",
              "      <td>-0.2554</td>\n",
              "      <td>-0.1670</td>\n",
              "      <td>1.6127</td>\n",
              "      <td>1.0652</td>\n",
              "      <td>0.4891</td>\n",
              "      <td>-0.1438</td>\n",
              "      <td>0.6356</td>\n",
              "      <td>0.4639</td>\n",
              "      <td>-0.1148</td>\n",
              "      <td>-0.1834</td>\n",
              "      <td>-0.1458</td>\n",
              "      <td>-0.0691</td>\n",
              "      <td>-0.2258</td>\n",
              "      <td>-0.6387</td>\n",
              "      <td>0.1013</td>\n",
              "      <td>-0.3398</td>\n",
              "      <td>0.1672</td>\n",
              "      <td>0.1259</td>\n",
              "      <td>-0.0090</td>\n",
              "      <td>0.0147</td>\n",
              "      <td>2.6900</td>\n",
              "    </tr>\n",
              "  </tbody>\n",
              "</table>\n",
              "</div>"
            ],
            "text/plain": [
              "    Time      V1      V2     V3     V4      V5      V6      V7     V8      V9  \\\n",
              "0 0.0000 -1.3598 -0.0728 2.5363 1.3782 -0.3383 0.4624  0.2396  0.0987 0.3638    \n",
              "1 0.0000 1.1919  0.2662  0.1665 0.4482 0.0600  -0.0824 -0.0788 0.0851 -0.2554   \n",
              "\n",
              "      V10     V11     V12     V13     V14    V15     V16     V17     V18  \\\n",
              "0 0.0908  -0.5516 -0.6178 -0.9914 -0.3112 1.4682 -0.4704 0.2080  0.0258    \n",
              "1 -0.1670 1.6127  1.0652  0.4891  -0.1438 0.6356 0.4639  -0.1148 -0.1834   \n",
              "\n",
              "      V19     V20     V21     V22     V23     V24    V25     V26     V27  \\\n",
              "0 0.4040  0.2514  -0.0183 0.2778  -0.1105 0.0669  0.1285 -0.1891 0.1336    \n",
              "1 -0.1458 -0.0691 -0.2258 -0.6387 0.1013  -0.3398 0.1672 0.1259  -0.0090   \n",
              "\n",
              "      V28   Amount  \n",
              "0 -0.0211 149.6200  \n",
              "1 0.0147  2.6900    "
            ]
          },
          "metadata": {
            "tags": []
          },
          "execution_count": 24
        }
      ]
    },
    {
      "cell_type": "code",
      "metadata": {
        "id": "Z5CPYw23tNrt"
      },
      "source": [
        "# Putting the Target variable to y\n",
        "\n",
        "y = df_card['Class']"
      ],
      "execution_count": null,
      "outputs": []
    },
    {
      "cell_type": "code",
      "metadata": {
        "id": "wB_SAYEttRpF"
      },
      "source": [
        "from sklearn.model_selection import StratifiedShuffleSplit"
      ],
      "execution_count": null,
      "outputs": []
    },
    {
      "cell_type": "code",
      "metadata": {
        "colab": {
          "base_uri": "https://localhost:8080/"
        },
        "id": "9gzVpEBDtVlw",
        "outputId": "e197f1ad-076a-4797-c9e7-dde710fc8aee"
      },
      "source": [
        "# Splitting the data into Train and Test set\n",
        "kfold = 4\n",
        "sss = StratifiedShuffleSplit(n_splits=kfold, test_size=0.3, random_state=9487)\n",
        "for train_index, test_index in sss.split(X, y):\n",
        "        print(\"TRAIN:\", train_index, \"TEST:\", test_index)\n",
        "        X_train, X_test = X.iloc, X.iloc\n",
        "        y_train, y_test = y[train_index], y[test_index]"
      ],
      "execution_count": null,
      "outputs": [
        {
          "output_type": "stream",
          "text": [
            "TRAIN: [129141  91689 118805 ... 249655  69488 188068] TEST: [ 32603  71580 144362 ... 120664 260883 146701]\n",
            "TRAIN: [179661 129498 253513 ... 261021 275137 199709] TEST: [ 30193  96420  28988 ... 159837 243770  87245]\n",
            "TRAIN: [ 55609 250907 105943 ...  96700  41174 261733] TEST: [ 97330 182828 138896 ... 103047 280031 252278]\n",
            "TRAIN: [160541 270383   7914 ... 119570 142561 116811] TEST: [199984 152508 204491 ... 203781  88156  52492]\n"
          ],
          "name": "stdout"
        }
      ]
    },
    {
      "cell_type": "code",
      "metadata": {
        "colab": {
          "base_uri": "https://localhost:8080/",
          "height": 536
        },
        "id": "xWwgl1GWtd--",
        "outputId": "1570e6c0-f4a1-448f-e0cd-effcc322d029"
      },
      "source": [
        "# Checking Skewness of data\n",
        "\n",
        "plt.rcParams['figure.figsize'] = [10,8]\n",
        "plt.hist(df_card['Amount'],edgecolor='k',bins = 5)\n",
        "plt.title('Transaction Amount')\n",
        "plt.xlabel('Amount in USD') \n",
        "plt.ylabel('Count')"
      ],
      "execution_count": null,
      "outputs": [
        {
          "output_type": "execute_result",
          "data": {
            "text/plain": [
              "Text(0, 0.5, 'Count')"
            ]
          },
          "metadata": {
            "tags": []
          },
          "execution_count": 28
        },
        {
          "output_type": "display_data",
          "data": {
            "image/png": "[encoded data removed]",
            "text/plain": [
              "<Figure size 720x576 with 1 Axes>"
            ]
          },
          "metadata": {
            "tags": [],
            "needs_background": "light"
          }
        }
      ]
    },
    {
      "cell_type": "code",
      "metadata": {
        "id": "JZ0QjHIQtn9q"
      },
      "source": [
        "from sklearn import preprocessing\n",
        "from sklearn.preprocessing import PowerTransformer"
      ],
      "execution_count": null,
      "outputs": []
    },
    {
      "cell_type": "code",
      "metadata": {
        "id": "QjqqS31Ltr5i"
      },
      "source": [
        "pt = preprocessing.PowerTransformer(copy=False)\n",
        "PWTR_X = pt.fit_transform(X)"
      ],
      "execution_count": null,
      "outputs": []
    },
    {
      "cell_type": "markdown",
      "metadata": {
        "id": "ME2pSfZ5uE2c"
      },
      "source": [
        "#Imbalanced Data Set\n",
        "#Logistic Regression\n",
        "#Model 1 : Logistic Regression on Imbalanced Data"
      ]
    },
    {
      "cell_type": "code",
      "metadata": {
        "colab": {
          "base_uri": "https://localhost:8080/"
        },
        "id": "nVojZI7CuDus",
        "outputId": "e93d4284-71df-4c33-dc2e-8c2f9cb993ad"
      },
      "source": [
        "# Splitting dataset into test and train sets in 70:30 ratio after applying Power Transform\n",
        "\n",
        "kfold = 4\n",
        "sss = StratifiedShuffleSplit(n_splits=kfold, test_size=0.3, random_state=9487)\n",
        "for train_index, test_index in sss.split(PWTR_X, y):\n",
        "        print(\"TRAIN:\", train_index, \"TEST:\", test_index)\n",
        "        X_train, X_test = PWTR_X[train_index], PWTR_X[test_index]\n",
        "        y_train, y_test = y[train_index], y[test_index]"
      ],
      "execution_count": null,
      "outputs": [
        {
          "output_type": "stream",
          "text": [
            "TRAIN: [129141  91689 118805 ... 249655  69488 188068] TEST: [ 32603  71580 144362 ... 120664 260883 146701]\n",
            "TRAIN: [179661 129498 253513 ... 261021 275137 199709] TEST: [ 30193  96420  28988 ... 159837 243770  87245]\n",
            "TRAIN: [ 55609 250907 105943 ...  96700  41174 261733] TEST: [ 97330 182828 138896 ... 103047 280031 252278]\n",
            "TRAIN: [160541 270383   7914 ... 119570 142561 116811] TEST: [199984 152508 204491 ... 203781  88156  52492]\n"
          ],
          "name": "stdout"
        }
      ]
    },
    {
      "cell_type": "code",
      "metadata": {
        "colab": {
          "base_uri": "https://localhost:8080/"
        },
        "id": "byZf5wMtuvQJ",
        "outputId": "a80fbc32-817c-4fce-f862-8e90cb580f44"
      },
      "source": [
        "from sklearn.linear_model import LogisticRegression\n",
        "\n",
        "# Fit a logistic regression model to train data\n",
        "model_lr = LogisticRegression()\n",
        "model_lr.fit(X_train, y_train)"
      ],
      "execution_count": null,
      "outputs": [
        {
          "output_type": "execute_result",
          "data": {
            "text/plain": [
              "LogisticRegression(C=1.0, class_weight=None, dual=False, fit_intercept=True,\n",
              "                   intercept_scaling=1, l1_ratio=None, max_iter=100,\n",
              "                   multi_class='auto', n_jobs=None, penalty='l2',\n",
              "                   random_state=None, solver='lbfgs', tol=0.0001, verbose=0,\n",
              "                   warm_start=False)"
            ]
          },
          "metadata": {
            "tags": []
          },
          "execution_count": 32
        }
      ]
    },
    {
      "cell_type": "code",
      "metadata": {
        "id": "phrzKSdVu3wo"
      },
      "source": [
        "# Predict on test data\n",
        "y_predicted = model_lr.predict(X_test)"
      ],
      "execution_count": null,
      "outputs": []
    },
    {
      "cell_type": "code",
      "metadata": {
        "colab": {
          "base_uri": "https://localhost:8080/"
        },
        "id": "VAPxHbZSu8Hh",
        "outputId": "01e40b58-4c5e-4f1a-9d55-cc63d5e7d426"
      },
      "source": [
        "# Evaluation Metrics\n",
        "\n",
        "print('Classification report:\\n', classification_report(y_test, y_predicted))\n",
        "print('Confusion matrix:\\n',confusion_matrix(y_true = y_test, y_pred = y_predicted))\n",
        "print(\"Logistic Regression Accuracy: \",accuracy_score(y_test,y_predicted))\n",
        "print('ROC AUC : ', roc_auc_score(y_test, y_predicted))"
      ],
      "execution_count": null,
      "outputs": [
        {
          "output_type": "stream",
          "text": [
            "Classification report:\n",
            "               precision    recall  f1-score   support\n",
            "\n",
            "           0       1.00      1.00      1.00     85295\n",
            "           1       0.86      0.60      0.71       148\n",
            "\n",
            "    accuracy                           1.00     85443\n",
            "   macro avg       0.93      0.80      0.85     85443\n",
            "weighted avg       1.00      1.00      1.00     85443\n",
            "\n",
            "Confusion matrix:\n",
            " [[85280    15]\n",
            " [   59    89]]\n",
            "Logistic Regression Accuracy:  0.999133925541004\n",
            "ROC AUC :  0.8005877455508148\n"
          ],
          "name": "stdout"
        }
      ]
    },
    {
      "cell_type": "code",
      "metadata": {
        "id": "DC0KUpVEvJOr"
      },
      "source": [
        "# Function for roc_curve\n",
        "def plot_roc_curve(fpr,tpr,roc_auc):\n",
        "    plt.plot(fpr, tpr, linewidth=5, label='AUC = %0.3f'% roc_auc)\n",
        "    plt.plot([0,1],[0,1], linewidth=5)\n",
        "    plt.xlim([-0.01, 1])\n",
        "    plt.ylim([0, 1.01])\n",
        "    plt.legend(loc='upper right')\n",
        "    plt.title('Receiver operating characteristic curve (ROC)')\n",
        "    plt.ylabel('True Positive Rate')\n",
        "    plt.xlabel('False Positive Rate')\n",
        "    plt.show()"
      ],
      "execution_count": null,
      "outputs": []
    },
    {
      "cell_type": "code",
      "metadata": {
        "id": "Tip-hlvuvN-7"
      },
      "source": [
        "# tpr and fpr\n",
        "fpr, tpr, threshold = roc_curve(y_test, y_predicted)\n",
        "roc_auc = roc_auc_score(y_test, y_predicted)"
      ],
      "execution_count": null,
      "outputs": []
    },
    {
      "cell_type": "code",
      "metadata": {
        "colab": {
          "base_uri": "https://localhost:8080/",
          "height": 410
        },
        "id": "vKvIacQLvS6N",
        "outputId": "7b4ba1b0-3a11-412c-fbd9-563bb41de9ab"
      },
      "source": [
        "# Plotting the roc curve \n",
        "plt.rcParams['figure.figsize'] = [6,6]\n",
        "plot_roc_curve(fpr,tpr,roc_auc)"
      ],
      "execution_count": null,
      "outputs": [
        {
          "output_type": "display_data",
          "data": {
            "image/png": "[encoded data removed]",
            "text/plain": [
              "<Figure size 432x432 with 1 Axes>"
            ]
          },
          "metadata": {
            "tags": [],
            "needs_background": "light"
          }
        }
      ]
    },
    {
      "cell_type": "markdown",
      "metadata": {
        "id": "q9a4-EkJvk-r"
      },
      "source": [
        "Inference:\n",
        "Precision : 0.86\n",
        "Recall : 0.60\n",
        "F1-score : 0.70\n",
        "Accuracy : 0.85\n",
        "ROC AUC : 0.80"
      ]
    },
    {
      "cell_type": "markdown",
      "metadata": {
        "id": "DIw4-6C7vtWO"
      },
      "source": [
        "Hyperparameter Tuning Logisitic Regression\n",
        "#Model 2 : Logistic Regression on Imbalanced Data with K-Fold and Hypertuning¶"
      ]
    },
    {
      "cell_type": "code",
      "metadata": {
        "id": "NPUEy_9lvcUE"
      },
      "source": [
        "from imblearn.metrics import sensitivity_specificity_support"
      ],
      "execution_count": null,
      "outputs": []
    },
    {
      "cell_type": "code",
      "metadata": {
        "id": "1ELSy1Glv4rR"
      },
      "source": [
        "# Number of folds\n",
        "\n",
        "n_folds = 5\n",
        "# parameters \n",
        "params ={'C': [0.1, 0.5, 1, 2, 3, 4, 5, 10], 'penalty': ['l1', 'l2']}\n",
        "\n",
        "lrh = LogisticRegression()\n",
        "\n",
        "model_lrh = GridSearchCV(estimator=lrh, cv=n_folds, param_grid=params, scoring='roc_auc', n_jobs=-1, verbose=1)"
      ],
      "execution_count": null,
      "outputs": []
    },
    {
      "cell_type": "code",
      "metadata": {
        "colab": {
          "base_uri": "https://localhost:8080/"
        },
        "id": "X8dvYW5ov9Ep",
        "outputId": "1f9392e2-bd4a-4a2a-b43e-9b3f265dc819"
      },
      "source": [
        "# Fitting the model\n",
        "\n",
        "model_lrh.fit(X_train,y_train)"
      ],
      "execution_count": null,
      "outputs": [
        {
          "output_type": "stream",
          "text": [
            "Fitting 5 folds for each of 16 candidates, totalling 80 fits\n"
          ],
          "name": "stdout"
        },
        {
          "output_type": "stream",
          "text": [
            "[Parallel(n_jobs=-1)]: Using backend LokyBackend with 2 concurrent workers.\n",
            "[Parallel(n_jobs=-1)]: Done  46 tasks      | elapsed:   21.6s\n",
            "[Parallel(n_jobs=-1)]: Done  80 out of  80 | elapsed:   38.8s finished\n"
          ],
          "name": "stderr"
        },
        {
          "output_type": "execute_result",
          "data": {
            "text/plain": [
              "GridSearchCV(cv=5, error_score=nan,\n",
              "             estimator=LogisticRegression(C=1.0, class_weight=None, dual=False,\n",
              "                                          fit_intercept=True,\n",
              "                                          intercept_scaling=1, l1_ratio=None,\n",
              "                                          max_iter=100, multi_class='auto',\n",
              "                                          n_jobs=None, penalty='l2',\n",
              "                                          random_state=None, solver='lbfgs',\n",
              "                                          tol=0.0001, verbose=0,\n",
              "                                          warm_start=False),\n",
              "             iid='deprecated', n_jobs=-1,\n",
              "             param_grid={'C': [0.1, 0.5, 1, 2, 3, 4, 5, 10],\n",
              "                         'penalty': ['l1', 'l2']},\n",
              "             pre_dispatch='2*n_jobs', refit=True, return_train_score=False,\n",
              "             scoring='roc_auc', verbose=1)"
            ]
          },
          "metadata": {
            "tags": []
          },
          "execution_count": 40
        }
      ]
    },
    {
      "cell_type": "code",
      "metadata": {
        "colab": {
          "base_uri": "https://localhost:8080/",
          "height": 1000
        },
        "id": "_8i5_fZPwBTS",
        "outputId": "d0cab7e7-c879-4c0e-fb79-3a2803127402"
      },
      "source": [
        "pd.DataFrame(model_lrh.cv_results_)"
      ],
      "execution_count": null,
      "outputs": [
        {
          "output_type": "execute_result",
          "data": {
            "text/html": [
              "<div>\n",
              "<style scoped>\n",
              "    .dataframe tbody tr th:only-of-type {\n",
              "        vertical-align: middle;\n",
              "    }\n",
              "\n",
              "    .dataframe tbody tr th {\n",
              "        vertical-align: top;\n",
              "    }\n",
              "\n",
              "    .dataframe thead th {\n",
              "        text-align: right;\n",
              "    }\n",
              "</style>\n",
              "<table border=\"1\" class=\"dataframe\">\n",
              "  <thead>\n",
              "    <tr style=\"text-align: right;\">\n",
              "      <th></th>\n",
              "      <th>mean_fit_time</th>\n",
              "      <th>std_fit_time</th>\n",
              "      <th>mean_score_time</th>\n",
              "      <th>std_score_time</th>\n",
              "      <th>param_C</th>\n",
              "      <th>param_penalty</th>\n",
              "      <th>params</th>\n",
              "      <th>split0_test_score</th>\n",
              "      <th>split1_test_score</th>\n",
              "      <th>split2_test_score</th>\n",
              "      <th>split3_test_score</th>\n",
              "      <th>split4_test_score</th>\n",
              "      <th>mean_test_score</th>\n",
              "      <th>std_test_score</th>\n",
              "      <th>rank_test_score</th>\n",
              "    </tr>\n",
              "  </thead>\n",
              "  <tbody>\n",
              "    <tr>\n",
              "      <th>0</th>\n",
              "      <td>0.0397</td>\n",
              "      <td>0.0089</td>\n",
              "      <td>0.0000</td>\n",
              "      <td>0.0000</td>\n",
              "      <td>0.1000</td>\n",
              "      <td>l1</td>\n",
              "      <td>{'C': 0.1, 'penalty': 'l1'}</td>\n",
              "      <td>nan</td>\n",
              "      <td>nan</td>\n",
              "      <td>nan</td>\n",
              "      <td>nan</td>\n",
              "      <td>nan</td>\n",
              "      <td>nan</td>\n",
              "      <td>nan</td>\n",
              "      <td>9</td>\n",
              "    </tr>\n",
              "    <tr>\n",
              "      <th>1</th>\n",
              "      <td>1.6356</td>\n",
              "      <td>0.1144</td>\n",
              "      <td>0.0281</td>\n",
              "      <td>0.0012</td>\n",
              "      <td>0.1000</td>\n",
              "      <td>l2</td>\n",
              "      <td>{'C': 0.1, 'penalty': 'l2'}</td>\n",
              "      <td>0.9696</td>\n",
              "      <td>0.9926</td>\n",
              "      <td>0.9882</td>\n",
              "      <td>0.9777</td>\n",
              "      <td>0.9740</td>\n",
              "      <td>0.9804</td>\n",
              "      <td>0.0086</td>\n",
              "      <td>1</td>\n",
              "    </tr>\n",
              "    <tr>\n",
              "      <th>2</th>\n",
              "      <td>0.0262</td>\n",
              "      <td>0.0013</td>\n",
              "      <td>0.0000</td>\n",
              "      <td>0.0000</td>\n",
              "      <td>0.5000</td>\n",
              "      <td>l1</td>\n",
              "      <td>{'C': 0.5, 'penalty': 'l1'}</td>\n",
              "      <td>nan</td>\n",
              "      <td>nan</td>\n",
              "      <td>nan</td>\n",
              "      <td>nan</td>\n",
              "      <td>nan</td>\n",
              "      <td>nan</td>\n",
              "      <td>nan</td>\n",
              "      <td>10</td>\n",
              "    </tr>\n",
              "    <tr>\n",
              "      <th>3</th>\n",
              "      <td>1.7489</td>\n",
              "      <td>0.1410</td>\n",
              "      <td>0.0276</td>\n",
              "      <td>0.0015</td>\n",
              "      <td>0.5000</td>\n",
              "      <td>l2</td>\n",
              "      <td>{'C': 0.5, 'penalty': 'l2'}</td>\n",
              "      <td>0.9700</td>\n",
              "      <td>0.9921</td>\n",
              "      <td>0.9864</td>\n",
              "      <td>0.9776</td>\n",
              "      <td>0.9734</td>\n",
              "      <td>0.9799</td>\n",
              "      <td>0.0082</td>\n",
              "      <td>2</td>\n",
              "    </tr>\n",
              "    <tr>\n",
              "      <th>4</th>\n",
              "      <td>0.0260</td>\n",
              "      <td>0.0013</td>\n",
              "      <td>0.0000</td>\n",
              "      <td>0.0000</td>\n",
              "      <td>1</td>\n",
              "      <td>l1</td>\n",
              "      <td>{'C': 1, 'penalty': 'l1'}</td>\n",
              "      <td>nan</td>\n",
              "      <td>nan</td>\n",
              "      <td>nan</td>\n",
              "      <td>nan</td>\n",
              "      <td>nan</td>\n",
              "      <td>nan</td>\n",
              "      <td>nan</td>\n",
              "      <td>11</td>\n",
              "    </tr>\n",
              "    <tr>\n",
              "      <th>5</th>\n",
              "      <td>1.7716</td>\n",
              "      <td>0.0762</td>\n",
              "      <td>0.0279</td>\n",
              "      <td>0.0011</td>\n",
              "      <td>1</td>\n",
              "      <td>l2</td>\n",
              "      <td>{'C': 1, 'penalty': 'l2'}</td>\n",
              "      <td>0.9701</td>\n",
              "      <td>0.9920</td>\n",
              "      <td>0.9861</td>\n",
              "      <td>0.9776</td>\n",
              "      <td>0.9733</td>\n",
              "      <td>0.9798</td>\n",
              "      <td>0.0081</td>\n",
              "      <td>3</td>\n",
              "    </tr>\n",
              "    <tr>\n",
              "      <th>6</th>\n",
              "      <td>0.0258</td>\n",
              "      <td>0.0014</td>\n",
              "      <td>0.0000</td>\n",
              "      <td>0.0000</td>\n",
              "      <td>2</td>\n",
              "      <td>l1</td>\n",
              "      <td>{'C': 2, 'penalty': 'l1'}</td>\n",
              "      <td>nan</td>\n",
              "      <td>nan</td>\n",
              "      <td>nan</td>\n",
              "      <td>nan</td>\n",
              "      <td>nan</td>\n",
              "      <td>nan</td>\n",
              "      <td>nan</td>\n",
              "      <td>12</td>\n",
              "    </tr>\n",
              "    <tr>\n",
              "      <th>7</th>\n",
              "      <td>1.8551</td>\n",
              "      <td>0.1415</td>\n",
              "      <td>0.0302</td>\n",
              "      <td>0.0060</td>\n",
              "      <td>2</td>\n",
              "      <td>l2</td>\n",
              "      <td>{'C': 2, 'penalty': 'l2'}</td>\n",
              "      <td>0.9701</td>\n",
              "      <td>0.9920</td>\n",
              "      <td>0.9860</td>\n",
              "      <td>0.9776</td>\n",
              "      <td>0.9732</td>\n",
              "      <td>0.9798</td>\n",
              "      <td>0.0081</td>\n",
              "      <td>4</td>\n",
              "    </tr>\n",
              "    <tr>\n",
              "      <th>8</th>\n",
              "      <td>0.0266</td>\n",
              "      <td>0.0013</td>\n",
              "      <td>0.0000</td>\n",
              "      <td>0.0000</td>\n",
              "      <td>3</td>\n",
              "      <td>l1</td>\n",
              "      <td>{'C': 3, 'penalty': 'l1'}</td>\n",
              "      <td>nan</td>\n",
              "      <td>nan</td>\n",
              "      <td>nan</td>\n",
              "      <td>nan</td>\n",
              "      <td>nan</td>\n",
              "      <td>nan</td>\n",
              "      <td>nan</td>\n",
              "      <td>13</td>\n",
              "    </tr>\n",
              "    <tr>\n",
              "      <th>9</th>\n",
              "      <td>1.8134</td>\n",
              "      <td>0.1342</td>\n",
              "      <td>0.0291</td>\n",
              "      <td>0.0035</td>\n",
              "      <td>3</td>\n",
              "      <td>l2</td>\n",
              "      <td>{'C': 3, 'penalty': 'l2'}</td>\n",
              "      <td>0.9702</td>\n",
              "      <td>0.9920</td>\n",
              "      <td>0.9859</td>\n",
              "      <td>0.9776</td>\n",
              "      <td>0.9732</td>\n",
              "      <td>0.9798</td>\n",
              "      <td>0.0081</td>\n",
              "      <td>5</td>\n",
              "    </tr>\n",
              "    <tr>\n",
              "      <th>10</th>\n",
              "      <td>0.0261</td>\n",
              "      <td>0.0018</td>\n",
              "      <td>0.0000</td>\n",
              "      <td>0.0000</td>\n",
              "      <td>4</td>\n",
              "      <td>l1</td>\n",
              "      <td>{'C': 4, 'penalty': 'l1'}</td>\n",
              "      <td>nan</td>\n",
              "      <td>nan</td>\n",
              "      <td>nan</td>\n",
              "      <td>nan</td>\n",
              "      <td>nan</td>\n",
              "      <td>nan</td>\n",
              "      <td>nan</td>\n",
              "      <td>14</td>\n",
              "    </tr>\n",
              "    <tr>\n",
              "      <th>11</th>\n",
              "      <td>1.7914</td>\n",
              "      <td>0.0745</td>\n",
              "      <td>0.0287</td>\n",
              "      <td>0.0037</td>\n",
              "      <td>4</td>\n",
              "      <td>l2</td>\n",
              "      <td>{'C': 4, 'penalty': 'l2'}</td>\n",
              "      <td>0.9702</td>\n",
              "      <td>0.9920</td>\n",
              "      <td>0.9859</td>\n",
              "      <td>0.9776</td>\n",
              "      <td>0.9732</td>\n",
              "      <td>0.9798</td>\n",
              "      <td>0.0081</td>\n",
              "      <td>6</td>\n",
              "    </tr>\n",
              "    <tr>\n",
              "      <th>12</th>\n",
              "      <td>0.0268</td>\n",
              "      <td>0.0028</td>\n",
              "      <td>0.0000</td>\n",
              "      <td>0.0000</td>\n",
              "      <td>5</td>\n",
              "      <td>l1</td>\n",
              "      <td>{'C': 5, 'penalty': 'l1'}</td>\n",
              "      <td>nan</td>\n",
              "      <td>nan</td>\n",
              "      <td>nan</td>\n",
              "      <td>nan</td>\n",
              "      <td>nan</td>\n",
              "      <td>nan</td>\n",
              "      <td>nan</td>\n",
              "      <td>15</td>\n",
              "    </tr>\n",
              "    <tr>\n",
              "      <th>13</th>\n",
              "      <td>1.7892</td>\n",
              "      <td>0.1141</td>\n",
              "      <td>0.0291</td>\n",
              "      <td>0.0023</td>\n",
              "      <td>5</td>\n",
              "      <td>l2</td>\n",
              "      <td>{'C': 5, 'penalty': 'l2'}</td>\n",
              "      <td>0.9702</td>\n",
              "      <td>0.9920</td>\n",
              "      <td>0.9859</td>\n",
              "      <td>0.9776</td>\n",
              "      <td>0.9732</td>\n",
              "      <td>0.9798</td>\n",
              "      <td>0.0081</td>\n",
              "      <td>7</td>\n",
              "    </tr>\n",
              "    <tr>\n",
              "      <th>14</th>\n",
              "      <td>0.0252</td>\n",
              "      <td>0.0011</td>\n",
              "      <td>0.0000</td>\n",
              "      <td>0.0000</td>\n",
              "      <td>10</td>\n",
              "      <td>l1</td>\n",
              "      <td>{'C': 10, 'penalty': 'l1'}</td>\n",
              "      <td>nan</td>\n",
              "      <td>nan</td>\n",
              "      <td>nan</td>\n",
              "      <td>nan</td>\n",
              "      <td>nan</td>\n",
              "      <td>nan</td>\n",
              "      <td>nan</td>\n",
              "      <td>16</td>\n",
              "    </tr>\n",
              "    <tr>\n",
              "      <th>15</th>\n",
              "      <td>1.7800</td>\n",
              "      <td>0.1116</td>\n",
              "      <td>0.0254</td>\n",
              "      <td>0.0045</td>\n",
              "      <td>10</td>\n",
              "      <td>l2</td>\n",
              "      <td>{'C': 10, 'penalty': 'l2'}</td>\n",
              "      <td>0.9702</td>\n",
              "      <td>0.9920</td>\n",
              "      <td>0.9858</td>\n",
              "      <td>0.9776</td>\n",
              "      <td>0.9732</td>\n",
              "      <td>0.9797</td>\n",
              "      <td>0.0081</td>\n",
              "      <td>8</td>\n",
              "    </tr>\n",
              "  </tbody>\n",
              "</table>\n",
              "</div>"
            ],
            "text/plain": [
              "    mean_fit_time  std_fit_time  mean_score_time  std_score_time param_C  \\\n",
              "0  0.0397         0.0089        0.0000           0.0000          0.1000    \n",
              "1  1.6356         0.1144        0.0281           0.0012          0.1000    \n",
              "2  0.0262         0.0013        0.0000           0.0000          0.5000    \n",
              "3  1.7489         0.1410        0.0276           0.0015          0.5000    \n",
              "4  0.0260         0.0013        0.0000           0.0000           1        \n",
              "5  1.7716         0.0762        0.0279           0.0011           1        \n",
              "6  0.0258         0.0014        0.0000           0.0000           2        \n",
              "7  1.8551         0.1415        0.0302           0.0060           2        \n",
              "8  0.0266         0.0013        0.0000           0.0000           3        \n",
              "9  1.8134         0.1342        0.0291           0.0035           3        \n",
              "10 0.0261         0.0018        0.0000           0.0000           4        \n",
              "11 1.7914         0.0745        0.0287           0.0037           4        \n",
              "12 0.0268         0.0028        0.0000           0.0000           5        \n",
              "13 1.7892         0.1141        0.0291           0.0023           5        \n",
              "14 0.0252         0.0011        0.0000           0.0000           10       \n",
              "15 1.7800         0.1116        0.0254           0.0045           10       \n",
              "\n",
              "   param_penalty                       params  split0_test_score  \\\n",
              "0   l1            {'C': 0.1, 'penalty': 'l1'} nan                  \n",
              "1   l2            {'C': 0.1, 'penalty': 'l2'} 0.9696               \n",
              "2   l1            {'C': 0.5, 'penalty': 'l1'} nan                  \n",
              "3   l2            {'C': 0.5, 'penalty': 'l2'} 0.9700               \n",
              "4   l1            {'C': 1, 'penalty': 'l1'}   nan                  \n",
              "5   l2            {'C': 1, 'penalty': 'l2'}   0.9701               \n",
              "6   l1            {'C': 2, 'penalty': 'l1'}   nan                  \n",
              "7   l2            {'C': 2, 'penalty': 'l2'}   0.9701               \n",
              "8   l1            {'C': 3, 'penalty': 'l1'}   nan                  \n",
              "9   l2            {'C': 3, 'penalty': 'l2'}   0.9702               \n",
              "10  l1            {'C': 4, 'penalty': 'l1'}   nan                  \n",
              "11  l2            {'C': 4, 'penalty': 'l2'}   0.9702               \n",
              "12  l1            {'C': 5, 'penalty': 'l1'}   nan                  \n",
              "13  l2            {'C': 5, 'penalty': 'l2'}   0.9702               \n",
              "14  l1            {'C': 10, 'penalty': 'l1'}  nan                  \n",
              "15  l2            {'C': 10, 'penalty': 'l2'}  0.9702               \n",
              "\n",
              "    split1_test_score  split2_test_score  split3_test_score  \\\n",
              "0  nan                nan                nan                  \n",
              "1  0.9926             0.9882             0.9777               \n",
              "2  nan                nan                nan                  \n",
              "3  0.9921             0.9864             0.9776               \n",
              "4  nan                nan                nan                  \n",
              "5  0.9920             0.9861             0.9776               \n",
              "6  nan                nan                nan                  \n",
              "7  0.9920             0.9860             0.9776               \n",
              "8  nan                nan                nan                  \n",
              "9  0.9920             0.9859             0.9776               \n",
              "10 nan                nan                nan                  \n",
              "11 0.9920             0.9859             0.9776               \n",
              "12 nan                nan                nan                  \n",
              "13 0.9920             0.9859             0.9776               \n",
              "14 nan                nan                nan                  \n",
              "15 0.9920             0.9858             0.9776               \n",
              "\n",
              "    split4_test_score  mean_test_score  std_test_score  rank_test_score  \n",
              "0  nan                nan              nan              9                \n",
              "1  0.9740             0.9804           0.0086           1                \n",
              "2  nan                nan              nan              10               \n",
              "3  0.9734             0.9799           0.0082           2                \n",
              "4  nan                nan              nan              11               \n",
              "5  0.9733             0.9798           0.0081           3                \n",
              "6  nan                nan              nan              12               \n",
              "7  0.9732             0.9798           0.0081           4                \n",
              "8  nan                nan              nan              13               \n",
              "9  0.9732             0.9798           0.0081           5                \n",
              "10 nan                nan              nan              14               \n",
              "11 0.9732             0.9798           0.0081           6                \n",
              "12 nan                nan              nan              15               \n",
              "13 0.9732             0.9798           0.0081           7                \n",
              "14 nan                nan              nan              16               \n",
              "15 0.9732             0.9797           0.0081           8                "
            ]
          },
          "metadata": {
            "tags": []
          },
          "execution_count": 41
        }
      ]
    },
    {
      "cell_type": "code",
      "metadata": {
        "colab": {
          "base_uri": "https://localhost:8080/"
        },
        "id": "OBMBrBMhwYMt",
        "outputId": "962983ff-3937-43f5-d8e6-76d7daa541d2"
      },
      "source": [
        "print(\"Logistic Regression with PCA Best AUC : \", model_lrh.best_score_)\n",
        "print(\"Logistic Regression with PCA Best hyperparameters: \", model_lrh.best_params_)"
      ],
      "execution_count": null,
      "outputs": [
        {
          "output_type": "stream",
          "text": [
            "Logistic Regression with PCA Best AUC :  0.9804184472371569\n",
            "Logistic Regression with PCA Best hyperparameters:  {'C': 0.1, 'penalty': 'l2'}\n"
          ],
          "name": "stdout"
        }
      ]
    },
    {
      "cell_type": "code",
      "metadata": {
        "id": "mcWjf0tbwkh0"
      },
      "source": [
        "# Passing the best parameteres\n",
        "model_lrh_tuned = LogisticRegression(penalty='l2',C=0.1)"
      ],
      "execution_count": null,
      "outputs": []
    },
    {
      "cell_type": "code",
      "metadata": {
        "id": "4nPNONyWwoKK"
      },
      "source": [
        "# Predicting on test data\n",
        "\n",
        "model_lrh_tuned.fit(X_train,y_train)\n",
        "y_predicted = model_lrh_tuned.predict(X_test)"
      ],
      "execution_count": null,
      "outputs": []
    },
    {
      "cell_type": "code",
      "metadata": {
        "colab": {
          "base_uri": "https://localhost:8080/"
        },
        "id": "AG78yDYQwsIE",
        "outputId": "8d7e1dd8-a860-49f7-8b6a-b5b8f7e1c988"
      },
      "source": [
        "#Evaluation Metrices\n",
        "\n",
        "print('Classification report:\\n', classification_report(y_test, y_predicted))\n",
        "print('Confusion matrix:\\n',confusion_matrix(y_true = y_test, y_pred = y_predicted))\n",
        "print(\"Logistic Regression Accuracy: \",accuracy_score(y_test,y_predicted))\n",
        "print('ROC AUC : ', roc_auc_score(y_test, y_predicted))"
      ],
      "execution_count": null,
      "outputs": [
        {
          "output_type": "stream",
          "text": [
            "Classification report:\n",
            "               precision    recall  f1-score   support\n",
            "\n",
            "           0       1.00      1.00      1.00     85295\n",
            "           1       0.85      0.59      0.70       148\n",
            "\n",
            "    accuracy                           1.00     85443\n",
            "   macro avg       0.93      0.79      0.85     85443\n",
            "weighted avg       1.00      1.00      1.00     85443\n",
            "\n",
            "Confusion matrix:\n",
            " [[85280    15]\n",
            " [   61    87]]\n",
            "Logistic Regression Accuracy:  0.9991105181231933\n",
            "ROC AUC :  0.7938309887940581\n"
          ],
          "name": "stdout"
        }
      ]
    },
    {
      "cell_type": "code",
      "metadata": {
        "colab": {
          "base_uri": "https://localhost:8080/",
          "height": 410
        },
        "id": "JbN-mJ7LwzIA",
        "outputId": "ad473f8b-7a31-47f1-951d-5e4265168911"
      },
      "source": [
        "# Create true and false positive rates\n",
        "fpr, tpr, threshold = roc_curve(y_test, y_predicted)\n",
        "roc_auc = roc_auc_score(y_test, y_predicted)\n",
        "# Plot the roc curve \n",
        "plt.rcParams['figure.figsize'] = [6,6]\n",
        "plot_roc_curve(fpr,tpr,roc_auc)\n"
      ],
      "execution_count": null,
      "outputs": [
        {
          "output_type": "display_data",
          "data": {
            "image/png": "[encoded data removed]",
            "text/plain": [
              "<Figure size 432x432 with 1 Axes>"
            ]
          },
          "metadata": {
            "tags": [],
            "needs_background": "light"
          }
        }
      ]
    },
    {
      "cell_type": "markdown",
      "metadata": {
        "id": "eZiRFDYGw4qN"
      },
      "source": [
        "Inference:\n",
        "Precision : 0.85\n",
        "Recall : 0.59\n",
        "F1-score : 0.70\n",
        "Accuracy : 0.99\n",
        "ROC AUC : 0.79"
      ]
    },
    {
      "cell_type": "markdown",
      "metadata": {
        "id": "bRG_-etfw9ie"
      },
      "source": [
        "Random Forest\n",
        "#Model 3 : Random Forest on Imbalanced Data"
      ]
    },
    {
      "cell_type": "code",
      "metadata": {
        "id": "OK4tENIsw6Tc"
      },
      "source": [
        "#Initializing Random forest and creating model\n",
        "\n",
        "from sklearn.ensemble import RandomForestClassifier\n",
        "model_rfc = RandomForestClassifier(n_jobs=-1, \n",
        "                             random_state=2018,\n",
        "                             criterion='gini',\n",
        "                             n_estimators=100,\n",
        "                             verbose=False)"
      ],
      "execution_count": null,
      "outputs": []
    },
    {
      "cell_type": "code",
      "metadata": {
        "id": "Cwl7BOeuxGZO",
        "outputId": "5dd2adb8-b812-45f2-9a1c-c404f9a09ecf",
        "colab": {
          "base_uri": "https://localhost:8080/",
          "height": 226
        }
      },
      "source": [
        "# Fitting the model on Train data and Predicting on Test data\n",
        "\n",
        "model_rfc.fit(X_train,y_train)\n",
        "y_predicted = model_rfc.predict(X_test)"
      ],
      "execution_count": null,
      "outputs": [
        {
          "output_type": "error",
          "ename": "NameError",
          "evalue": "ignored",
          "traceback": [
            "\u001b[0;31m---------------------------------------------------------------------------\u001b[0m",
            "\u001b[0;31mNameError\u001b[0m                                 Traceback (most recent call last)",
            "\u001b[0;32m<ipython-input-2-07da0c95e645>\u001b[0m in \u001b[0;36m<module>\u001b[0;34m()\u001b[0m\n\u001b[1;32m      1\u001b[0m \u001b[0;31m# Fitting the model on Train data and Predicting on Test data\u001b[0m\u001b[0;34m\u001b[0m\u001b[0;34m\u001b[0m\u001b[0;34m\u001b[0m\u001b[0m\n\u001b[1;32m      2\u001b[0m \u001b[0;34m\u001b[0m\u001b[0m\n\u001b[0;32m----> 3\u001b[0;31m \u001b[0mmodel_rfc\u001b[0m\u001b[0;34m.\u001b[0m\u001b[0mfit\u001b[0m\u001b[0;34m(\u001b[0m\u001b[0mX_train\u001b[0m\u001b[0;34m,\u001b[0m\u001b[0my_train\u001b[0m\u001b[0;34m)\u001b[0m\u001b[0;34m\u001b[0m\u001b[0;34m\u001b[0m\u001b[0m\n\u001b[0m\u001b[1;32m      4\u001b[0m \u001b[0my_predicted\u001b[0m \u001b[0;34m=\u001b[0m \u001b[0mmodel_rfc\u001b[0m\u001b[0;34m.\u001b[0m\u001b[0mpredict\u001b[0m\u001b[0;34m(\u001b[0m\u001b[0mX_test\u001b[0m\u001b[0;34m)\u001b[0m\u001b[0;34m\u001b[0m\u001b[0;34m\u001b[0m\u001b[0m\n",
            "\u001b[0;31mNameError\u001b[0m: name 'X_train' is not defined"
          ]
        }
      ]
    },
    {
      "cell_type": "code",
      "metadata": {
        "id": "kOiPQO-9xKeO"
      },
      "source": [
        "# Evaluation Metrics\n",
        "\n",
        "print('Classification report:\\n', classification_report(y_test, y_predicted))\n",
        "print('Confusion matrix:\\n',confusion_matrix(y_true = y_test, y_pred = y_predicted))\n",
        "print(\"Logistic Regression Accuracy: \",accuracy_score(y_test,y_predicted))\n",
        "print('ROC AUC : ', roc_auc_score(y_test, y_predicted))"
      ],
      "execution_count": null,
      "outputs": []
    },
    {
      "cell_type": "code",
      "metadata": {
        "id": "ZfWFg5HexOGz"
      },
      "source": [
        "# Create true and false positive rates\n",
        "fpr, tpr, threshold = roc_curve(y_test, y_predicted)\n",
        "roc_auc = roc_auc_score(y_test, y_predicted)\n",
        "# Plot the roc curve \n",
        "plt.rcParams['figure.figsize'] = [6,6]\n",
        "plot_roc_curve(fpr,tpr,roc_auc)\n"
      ],
      "execution_count": null,
      "outputs": []
    },
    {
      "cell_type": "markdown",
      "metadata": {
        "id": "E_RbkSFgxSxd"
      },
      "source": [
        "Inference:\n",
        "Precision : 0.94\n",
        "Recall : 0.70\n",
        "F1-score : 0.80\n",
        "Accuracy : 0.99\n",
        "ROC AUC : 0.85"
      ]
    },
    {
      "cell_type": "markdown",
      "metadata": {
        "id": "my_0ozrZxTiG"
      },
      "source": [
        "Hyperparameter Tuning Random Forest\n",
        "#Model 4 : Random Forest on Imbalanced Data with K-Fold and Hyperparamater Tuning"
      ]
    },
    {
      "cell_type": "code",
      "metadata": {
        "id": "5sIYkzjgxZx9"
      },
      "source": [
        "from sklearn.model_selection import GridSearchCV\n",
        "from sklearn.model_selection import StratifiedKFold\n",
        "from sklearn.metrics import accuracy_score\n",
        "from sklearn.model_selection import RandomizedSearchCV"
      ],
      "execution_count": null,
      "outputs": []
    },
    {
      "cell_type": "code",
      "metadata": {
        "id": "U9p1VGxqxhAB"
      },
      "source": [
        "# Defining Parameters\n",
        "params = { \n",
        "    'n_estimators': [200, 400],\n",
        "    'max_features': ['auto', 'sqrt', 'log2'],\n",
        "    'max_depth' : [4,5,6,7,8],\n",
        "    'criterion' :['gini', 'entropy']\n",
        "}"
      ],
      "execution_count": null,
      "outputs": []
    },
    {
      "cell_type": "code",
      "metadata": {
        "id": "DngTa2C-xlvV"
      },
      "source": [
        "# Stratified K Fold\n",
        "cross_val = StratifiedKFold(n_splits=3)\n",
        "index_iterator = cross_val.split(X_train, y_train)\n",
        "clf = RandomForestClassifier()\n",
        "clf_random = RandomizedSearchCV(estimator = clf, param_distributions = params, n_iter = 50, cv = cross_val,\n",
        "                                verbose=2, random_state=42, n_jobs = -1,scoring='roc_auc')"
      ],
      "execution_count": null,
      "outputs": []
    },
    {
      "cell_type": "code",
      "metadata": {
        "id": "n16hzsgLxsHH"
      },
      "source": [
        "# Passing the best parameteres based on Randomized Search CV\n",
        "model_rfc_tuned = RandomForestClassifier(bootstrap=True,\n",
        "                               class_weight={0:1, 1:12}, # 0: non-fraud , 1:fraud\n",
        "                               criterion='gini',\n",
        "                               max_depth=5,\n",
        "                               max_features='sqrt',\n",
        "                               min_samples_leaf=10,\n",
        "                               n_estimators=200,\n",
        "                               n_jobs=-1, \n",
        "                               random_state=5)"
      ],
      "execution_count": null,
      "outputs": []
    },
    {
      "cell_type": "code",
      "metadata": {
        "id": "qI6lqvJExwLi"
      },
      "source": [
        "# Fitting the model on Train data and Predicting on Test Data\n",
        "\n",
        "model_rfc_tuned.fit(X_train,y_train)\n",
        "y_predicted = model_rfc_tuned.predict(X_test)"
      ],
      "execution_count": null,
      "outputs": []
    },
    {
      "cell_type": "code",
      "metadata": {
        "colab": {
          "base_uri": "https://localhost:8080/"
        },
        "id": "f3UAKa4dxy5S",
        "outputId": "4604ea3f-8495-456d-f547-01c1d387bbff"
      },
      "source": [
        "# Evaluation Metrices\n",
        "print('Classification report:\\n', classification_report(y_test, y_predicted))\n",
        "print('Confusion matrix:\\n',confusion_matrix(y_true = y_test, y_pred = y_predicted))\n",
        "print(\"Logistic Regression Accuracy: \",accuracy_score(y_test,y_predicted))\n",
        "print('ROC AUC : ', roc_auc_score(y_test, y_predicted))"
      ],
      "execution_count": null,
      "outputs": [
        {
          "output_type": "stream",
          "text": [
            "Classification report:\n",
            "               precision    recall  f1-score   support\n",
            "\n",
            "           0       1.00      1.00      1.00     85295\n",
            "           1       0.81      0.71      0.76       148\n",
            "\n",
            "    accuracy                           1.00     85443\n",
            "   macro avg       0.91      0.85      0.88     85443\n",
            "weighted avg       1.00      1.00      1.00     85443\n",
            "\n",
            "Confusion matrix:\n",
            " [[85271    24]\n",
            " [   43   105]]\n",
            "Logistic Regression Accuracy:  0.9992158515033414\n",
            "ROC AUC :  0.8545890415299524\n"
          ],
          "name": "stdout"
        }
      ]
    },
    {
      "cell_type": "code",
      "metadata": {
        "colab": {
          "base_uri": "https://localhost:8080/",
          "height": 410
        },
        "id": "D5LOZrecx3lX",
        "outputId": "e96415f6-41d2-45c4-8d03-9baadccdd96a"
      },
      "source": [
        "# Create true and false positive rates\n",
        "fpr, tpr, threshold = roc_curve(y_test, y_predicted)\n",
        "roc_auc = roc_auc_score(y_test, y_predicted)\n",
        "# Plot the roc curve \n",
        "plt.rcParams['figure.figsize'] = [6,6]\n",
        "plot_roc_curve(fpr,tpr,roc_auc)"
      ],
      "execution_count": null,
      "outputs": [
        {
          "output_type": "display_data",
          "data": {
            "image/png": "[encoded data removed]",
            "text/plain": [
              "<Figure size 432x432 with 1 Axes>"
            ]
          },
          "metadata": {
            "tags": [],
            "needs_background": "light"
          }
        }
      ]
    },
    {
      "cell_type": "markdown",
      "metadata": {
        "id": "5jizUXO2x987"
      },
      "source": [
        "Inference:\n",
        "Precision : 0.81\n",
        "Recall : 0.71\n",
        "F1-score : 0.76\n",
        "Accuracy : 0.99\n",
        "ROC AUC : 0.85"
      ]
    },
    {
      "cell_type": "markdown",
      "metadata": {
        "id": "G9Q5vAD5yA5n"
      },
      "source": [
        "XG Boost\n",
        "#Model 5 : XG Boost on Imbalanced Data"
      ]
    },
    {
      "cell_type": "code",
      "metadata": {
        "id": "VmKUKgYmx8Fr"
      },
      "source": [
        "#Initializing Random forest and creating model\n",
        "model_xgb = XGBClassifier()"
      ],
      "execution_count": null,
      "outputs": []
    },
    {
      "cell_type": "code",
      "metadata": {
        "id": "Q28pTK-rx82G",
        "colab": {
          "base_uri": "https://localhost:8080/",
          "height": 208
        },
        "outputId": "a997e322-09b7-42d9-b7a8-ca9e32f7fe92"
      },
      "source": [
        "# Fitting the model on Train data and Predicting on Test data\n",
        "model_xgb.fit(X_train,y_train)\n",
        "y_predicted = model_xgb.predict(X_test)"
      ],
      "execution_count": null,
      "outputs": [
        {
          "output_type": "error",
          "ename": "NameError",
          "evalue": "ignored",
          "traceback": [
            "\u001b[0;31m---------------------------------------------------------------------------\u001b[0m",
            "\u001b[0;31mNameError\u001b[0m                                 Traceback (most recent call last)",
            "\u001b[0;32m<ipython-input-9-0e0e1d18b9d4>\u001b[0m in \u001b[0;36m<module>\u001b[0;34m()\u001b[0m\n\u001b[1;32m      1\u001b[0m \u001b[0;31m# Fitting the model on Train data and Predicting on Test data\u001b[0m\u001b[0;34m\u001b[0m\u001b[0;34m\u001b[0m\u001b[0;34m\u001b[0m\u001b[0m\n\u001b[0;32m----> 2\u001b[0;31m \u001b[0mmodel_xgb\u001b[0m\u001b[0;34m.\u001b[0m\u001b[0mfit\u001b[0m\u001b[0;34m(\u001b[0m\u001b[0mX_train\u001b[0m\u001b[0;34m,\u001b[0m\u001b[0my_train\u001b[0m\u001b[0;34m)\u001b[0m\u001b[0;34m\u001b[0m\u001b[0;34m\u001b[0m\u001b[0m\n\u001b[0m\u001b[1;32m      3\u001b[0m \u001b[0my_predicted\u001b[0m \u001b[0;34m=\u001b[0m \u001b[0mmodel_xgb\u001b[0m\u001b[0;34m.\u001b[0m\u001b[0mpredict\u001b[0m\u001b[0;34m(\u001b[0m\u001b[0mX_test\u001b[0m\u001b[0;34m)\u001b[0m\u001b[0;34m\u001b[0m\u001b[0;34m\u001b[0m\u001b[0m\n",
            "\u001b[0;31mNameError\u001b[0m: name 'X_train' is not defined"
          ]
        }
      ]
    },
    {
      "cell_type": "code",
      "metadata": {
        "id": "4t6QY-BpyMrj"
      },
      "source": [
        "# Evaluation Metrices\n",
        "print('Classification report:\\n', classification_report(y_test, y_predicted))\n",
        "print('Confusion matrix:\\n',confusion_matrix(y_true = y_test, y_pred = y_predicted))\n",
        "print(\"Logistic Regression Accuracy: \",accuracy_score(y_test,y_predicted))\n",
        "print('ROC AUC : ', roc_auc_score(y_test, y_predicted))"
      ],
      "execution_count": null,
      "outputs": []
    },
    {
      "cell_type": "code",
      "metadata": {
        "id": "3fW44NlcyQIR"
      },
      "source": [
        "# Create true and false positive rates\n",
        "fpr, tpr, threshold = roc_curve(y_test, y_predicted)\n",
        "roc_auc = roc_auc_score(y_test, y_predicted)\n",
        "# Plot the roc curve \n",
        "plt.rcParams['figure.figsize'] = [6,6]\n",
        "plot_roc_curve(fpr,tpr,roc_auc)"
      ],
      "execution_count": null,
      "outputs": []
    },
    {
      "cell_type": "markdown",
      "metadata": {
        "id": "tIQ3YrncyUIS"
      },
      "source": [
        "Inference:\n",
        "Precision : 0.95\n",
        "Recall : 0.74\n",
        "F1-score : 0.83\n",
        "Accuracy : 0.99\n",
        "ROC AUC : 0.87"
      ]
    },
    {
      "cell_type": "markdown",
      "metadata": {
        "id": "LbLNTwF6yVYs"
      },
      "source": [
        "Hyperparameter Tuning XGB\n",
        "#Model 6 : XGB on Imbalanced Data with K-Fold and Hyperparamater Tuning"
      ]
    },
    {
      "cell_type": "code",
      "metadata": {
        "id": "dMZVReqkycGu"
      },
      "source": [
        "# Defining parameters\n",
        "params = {\n",
        "        'min_child_weight': [1, 5, 10],\n",
        "        'gamma': [0.5, 1, 1.5, 2, 5],\n",
        "        'subsample': [0.6, 0.8, 1.0],\n",
        "        'colsample_bytree': [0.6, 0.8, 1.0],\n",
        "        'max_depth': [3, 4, 5]\n",
        "        }"
      ],
      "execution_count": null,
      "outputs": []
    },
    {
      "cell_type": "code",
      "metadata": {
        "id": "rrFsZiG0yhBu"
      },
      "source": [
        "# Stratified K Fold\n",
        "cross_val = StratifiedKFold(n_splits=5)\n",
        "index_iterator = cross_val.split(X_train, y_train)\n",
        "\n",
        "\n",
        "xgb_cross = XGBClassifier(learning_rate=0.02, n_estimators=100, objective='binary:logistic',\n",
        "                    silent=True, nthread=1) \n",
        "\n",
        "\n",
        "xgb_random = RandomizedSearchCV(estimator = xgb_cross, param_distributions = params, n_iter =30 , cv = cross_val,\n",
        "                                verbose=2, random_state=42, n_jobs = -1,scoring='roc_auc')"
      ],
      "execution_count": null,
      "outputs": []
    },
    {
      "cell_type": "code",
      "metadata": {
        "id": "DXV7xw_0ylIo"
      },
      "source": [
        "# Passing the best parameteres based on Randomized Search CV\n",
        "model_xgb_tuned = XGBClassifier(min_child_weight= 5,\n",
        "        gamma= 1.5,\n",
        "        subsample= 1.0,\n",
        "        colsample_bytree= 0.6,\n",
        "        max_depth= 5)"
      ],
      "execution_count": null,
      "outputs": []
    },
    {
      "cell_type": "code",
      "metadata": {
        "id": "Gq8xb5LCyny1"
      },
      "source": [
        "# Fitting the model on Train data and Predicting on Test data\n",
        "model_xgb_tuned.fit(X_train,y_train)\n",
        "y_predicted = model_xgb_tuned.predict(X_test)"
      ],
      "execution_count": null,
      "outputs": []
    },
    {
      "cell_type": "code",
      "metadata": {
        "colab": {
          "base_uri": "https://localhost:8080/"
        },
        "id": "Egb-5ajCyrNd",
        "outputId": "46003b4b-6d2a-4193-b6e5-3ae3d202256e"
      },
      "source": [
        "# Evaluation metrices\n",
        "print('Classification report:\\n', classification_report(y_test, y_predicted))\n",
        "print('Confusion matrix:\\n',confusion_matrix(y_true = y_test, y_pred = y_predicted))\n",
        "print(\"Logistic Regression Accuracy: \",accuracy_score(y_test,y_predicted))\n",
        "print('ROC AUC : ', roc_auc_score(y_test, y_predicted))"
      ],
      "execution_count": null,
      "outputs": [
        {
          "output_type": "stream",
          "text": [
            "Classification report:\n",
            "               precision    recall  f1-score   support\n",
            "\n",
            "           0       1.00      1.00      1.00     85295\n",
            "           1       0.93      0.72      0.81       148\n",
            "\n",
            "    accuracy                           1.00     85443\n",
            "   macro avg       0.96      0.86      0.90     85443\n",
            "weighted avg       1.00      1.00      1.00     85443\n",
            "\n",
            "Confusion matrix:\n",
            " [[85287     8]\n",
            " [   42   106]]\n",
            "Logistic Regression Accuracy:  0.9994148145547324\n",
            "ROC AUC :  0.8580612120415158\n"
          ],
          "name": "stdout"
        }
      ]
    },
    {
      "cell_type": "code",
      "metadata": {
        "colab": {
          "base_uri": "https://localhost:8080/",
          "height": 410
        },
        "id": "uUzkpZV2yvD6",
        "outputId": "c41fc861-c52e-4909-bcb2-5d8f9876b958"
      },
      "source": [
        "# Create true and false positive rates\n",
        "fpr, tpr, threshold = roc_curve(y_test, y_predicted)\n",
        "roc_auc = roc_auc_score(y_test, y_predicted)\n",
        "# Plot the roc curve \n",
        "plt.rcParams['figure.figsize'] = [6,6]\n",
        "plot_roc_curve(fpr,tpr,roc_auc)"
      ],
      "execution_count": null,
      "outputs": [
        {
          "output_type": "display_data",
          "data": {
            "image/png": "[encoded data removed]",
            "text/plain": [
              "<Figure size 432x432 with 1 Axes>"
            ]
          },
          "metadata": {
            "tags": [],
            "needs_background": "light"
          }
        }
      ]
    },
    {
      "cell_type": "markdown",
      "metadata": {
        "id": "x0tJxKAbyzCc"
      },
      "source": [
        "Inference:\n",
        "Precision : 0.95\n",
        "Recall : 0.72\n",
        "F1-score : 0.82\n",
        "Accuracy : 0.99\n",
        "ROC AUC : 0.85"
      ]
    },
    {
      "cell_type": "markdown",
      "metadata": {
        "id": "j6ZdgA_EzRyp"
      },
      "source": [
        "Balanced Data Set"
      ]
    },
    {
      "cell_type": "code",
      "metadata": {
        "id": "inkZIw0WzTMB"
      },
      "source": [
        "from imblearn.over_sampling import RandomOverSampler\n",
        "from imblearn.over_sampling import SMOTE\n",
        "from imblearn.over_sampling import ADASYN\n",
        "\n",
        "# Resample training data\n",
        "ros = RandomOverSampler()\n",
        "smote = SMOTE(random_state=5)\n",
        "adasyn = ADASYN(random_state=5)\n",
        "\n",
        "X_train_ros, y_train_ros = ros.fit_sample(X_train,y_train)\n",
        "X_train_smote, y_train_smote = smote.fit_sample(X_train,y_train)\n",
        "X_train_adasyn, y_train_adasyn =adasyn.fit_sample(X_train,y_train)"
      ],
      "execution_count": null,
      "outputs": []
    },
    {
      "cell_type": "markdown",
      "metadata": {
        "id": "k05N4Zjvzaof"
      },
      "source": [
        "Logistic Regression\n",
        "#Model 7 : Logistic Regression on ROS Balanced Data"
      ]
    },
    {
      "cell_type": "code",
      "metadata": {
        "id": "Gm2YKUw4zdRL"
      },
      "source": [
        "# Fit a logistic regression model to our data\n",
        "from sklearn.linear_model import LogisticRegression\n",
        "\n",
        "model_lr = LogisticRegression()\n",
        "model_lr.fit(X_train_ros, y_train_ros)\n",
        "\n",
        "# Obtain model predictions\n",
        "y_predicted = model_lr.predict(X_test)"
      ],
      "execution_count": null,
      "outputs": []
    },
    {
      "cell_type": "code",
      "metadata": {
        "colab": {
          "base_uri": "https://localhost:8080/"
        },
        "id": "ffsbQgtBzit4",
        "outputId": "afeb9759-d05a-4174-81f5-f67d772e4b76"
      },
      "source": [
        "# Evaluation Metrics\n",
        "print('Classification report:\\n', classification_report(y_test, y_predicted))\n",
        "print('Confusion matrix:\\n',confusion_matrix(y_true = y_test, y_pred = y_predicted))\n",
        "print(\"Logistic Regression Accuracy: \",accuracy_score(y_test,y_predicted))\n",
        "print('ROC AUC : ', roc_auc_score(y_test, y_predicted))"
      ],
      "execution_count": null,
      "outputs": [
        {
          "output_type": "stream",
          "text": [
            "Classification report:\n",
            "               precision    recall  f1-score   support\n",
            "\n",
            "           0       1.00      0.98      0.99     85295\n",
            "           1       0.06      0.91      0.12       148\n",
            "\n",
            "    accuracy                           0.98     85443\n",
            "   macro avg       0.53      0.94      0.55     85443\n",
            "weighted avg       1.00      0.98      0.99     85443\n",
            "\n",
            "Confusion matrix:\n",
            " [[83295  2000]\n",
            " [   14   134]]\n",
            "Logistic Regression Accuracy:  0.9764287302646208\n",
            "ROC AUC :  0.9409786860545991\n"
          ],
          "name": "stdout"
        }
      ]
    },
    {
      "cell_type": "code",
      "metadata": {
        "colab": {
          "base_uri": "https://localhost:8080/",
          "height": 410
        },
        "id": "_qrfqM71zpGv",
        "outputId": "029c53da-f7d3-4d39-fdcb-ec973eec9794"
      },
      "source": [
        "# Create true and false positive rates\n",
        "fpr, tpr, threshold = roc_curve(y_test, y_predicted)\n",
        "roc_auc = roc_auc_score(y_test, y_predicted)\n",
        "# Plot the roc curve \n",
        "plt.rcParams['figure.figsize'] = [6,6]\n",
        "plot_roc_curve(fpr,tpr,roc_auc)"
      ],
      "execution_count": null,
      "outputs": [
        {
          "output_type": "display_data",
          "data": {
            "image/png": "[encoded data removed]",
            "text/plain": [
              "<Figure size 432x432 with 1 Axes>"
            ]
          },
          "metadata": {
            "tags": [],
            "needs_background": "light"
          }
        }
      ]
    },
    {
      "cell_type": "markdown",
      "metadata": {
        "id": "7jA-w992ztn_"
      },
      "source": [
        "Inference:\n",
        "Precision : 0.06\n",
        "Recall : 0.91\n",
        "F1-score : 0.11\n",
        "Accuracy : 0.97\n",
        "ROC AUC : 0.94"
      ]
    },
    {
      "cell_type": "markdown",
      "metadata": {
        "id": "_Qu_VkTvzw5n"
      },
      "source": [
        "Model 8 : Logistic Regression on SMOTE Balanced Data"
      ]
    },
    {
      "cell_type": "code",
      "metadata": {
        "id": "54n5rMafzuh6"
      },
      "source": [
        "# Fit a logistic regression model to our data\n",
        "from sklearn.linear_model import LogisticRegression\n",
        "\n",
        "model_lr = LogisticRegression()\n",
        "model_lr.fit(X_train_smote, y_train_smote)\n",
        "\n",
        "# Obtain model predictions\n",
        "y_predicted = model_lr.predict(X_test)"
      ],
      "execution_count": null,
      "outputs": []
    },
    {
      "cell_type": "code",
      "metadata": {
        "colab": {
          "base_uri": "https://localhost:8080/"
        },
        "id": "8looQVM0z-qO",
        "outputId": "12f69546-81db-4217-8ab2-cc5ea9ff68ff"
      },
      "source": [
        "# Evaluation Metrics\n",
        "print('Classification report:\\n', classification_report(y_test, y_predicted))\n",
        "print('Confusion matrix:\\n',confusion_matrix(y_true = y_test, y_pred = y_predicted))\n",
        "print(\"Logistic Regression Accuracy: \",accuracy_score(y_test,y_predicted))\n",
        "print('ROC AUC : ', roc_auc_score(y_test, y_predicted))"
      ],
      "execution_count": null,
      "outputs": [
        {
          "output_type": "stream",
          "text": [
            "Classification report:\n",
            "               precision    recall  f1-score   support\n",
            "\n",
            "           0       1.00      0.97      0.99     85295\n",
            "           1       0.06      0.91      0.11       148\n",
            "\n",
            "    accuracy                           0.97     85443\n",
            "   macro avg       0.53      0.94      0.55     85443\n",
            "weighted avg       1.00      0.97      0.99     85443\n",
            "\n",
            "Confusion matrix:\n",
            " [[83076  2219]\n",
            " [   14   134]]\n",
            "Logistic Regression Accuracy:  0.9738656180143488\n",
            "ROC AUC :  0.9396949062316317\n"
          ],
          "name": "stdout"
        }
      ]
    },
    {
      "cell_type": "code",
      "metadata": {
        "colab": {
          "base_uri": "https://localhost:8080/",
          "height": 410
        },
        "id": "QJIfCJZF0AqS",
        "outputId": "b76f04c7-0b50-44fb-8de9-937197330206"
      },
      "source": [
        "# Create true and false positive rates\n",
        "fpr, tpr, threshold = roc_curve(y_test, y_predicted)\n",
        "roc_auc = roc_auc_score(y_test, y_predicted)\n",
        "# Plot the roc curve \n",
        "plt.rcParams['figure.figsize'] = [6,6]\n",
        "plot_roc_curve(fpr,tpr,roc_auc)\n"
      ],
      "execution_count": null,
      "outputs": [
        {
          "output_type": "display_data",
          "data": {
            "image/png": "[encoded data removed]",
            "text/plain": [
              "<Figure size 432x432 with 1 Axes>"
            ]
          },
          "metadata": {
            "tags": [],
            "needs_background": "light"
          }
        }
      ]
    },
    {
      "cell_type": "markdown",
      "metadata": {
        "id": "LOtaizRG0Ixq"
      },
      "source": [
        "Inference:\n",
        "Precision : 0.06\n",
        "Recall : 0.91\n",
        "F1-score : 0.11\n",
        "Accuracy : 0.97\n",
        "ROC AUC : 0.93"
      ]
    },
    {
      "cell_type": "markdown",
      "metadata": {
        "id": "oQHteUwI0JkL"
      },
      "source": [
        "Model 9 : Logistic Regression on ADASYN Balanced Data\n"
      ]
    },
    {
      "cell_type": "code",
      "metadata": {
        "id": "znV4MlAQ0NSZ"
      },
      "source": [
        "# Fit a logistic regression model to our data\n",
        "from sklearn.linear_model import LogisticRegression\n",
        "\n",
        "model_lr = LogisticRegression()\n",
        "model_lr.fit(X_train_adasyn, y_train_adasyn)\n",
        "\n",
        "# Obtain model predictions\n",
        "y_predicted = model_lr.predict(X_test)"
      ],
      "execution_count": null,
      "outputs": []
    },
    {
      "cell_type": "code",
      "metadata": {
        "colab": {
          "base_uri": "https://localhost:8080/"
        },
        "id": "cY2gw5qh0VcP",
        "outputId": "a04d22a2-5213-4fc2-f383-31cee294eb56"
      },
      "source": [
        "# Evaluation Metrics\n",
        "print('Classification report:\\n', classification_report(y_test, y_predicted))\n",
        "print('Confusion matrix:\\n',confusion_matrix(y_true = y_test, y_pred = y_predicted))\n",
        "print(\"Logistic Regression Accuracy: \",accuracy_score(y_test,y_predicted))\n",
        "print('ROC AUC : ', roc_auc_score(y_test, y_predicted))"
      ],
      "execution_count": null,
      "outputs": [
        {
          "output_type": "stream",
          "text": [
            "Classification report:\n",
            "               precision    recall  f1-score   support\n",
            "\n",
            "           0       1.00      0.91      0.96     85295\n",
            "           1       0.02      0.91      0.04       148\n",
            "\n",
            "    accuracy                           0.91     85443\n",
            "   macro avg       0.51      0.91      0.50     85443\n",
            "weighted avg       1.00      0.91      0.95     85443\n",
            "\n",
            "Confusion matrix:\n",
            " [[78038  7257]\n",
            " [   13   135]]\n",
            "Logistic Regression Accuracy:  0.9149140362580902\n",
            "ROC AUC :  0.913540486673437\n"
          ],
          "name": "stdout"
        }
      ]
    },
    {
      "cell_type": "markdown",
      "metadata": {
        "id": "lkBbFdQM0bNj"
      },
      "source": [
        "Inference:\n",
        "Precision : 0.02\n",
        "Recall : 0.91\n",
        "F1-score : 0.04\n",
        "Accuracy : 0.91\n",
        "ROC AUC : 0.91"
      ]
    },
    {
      "cell_type": "markdown",
      "metadata": {
        "id": "coG2-YMH0en0"
      },
      "source": [
        "Random Forest\n",
        "#Model 10 : Random Forest on ROS Balanced Data\n"
      ]
    },
    {
      "cell_type": "code",
      "metadata": {
        "id": "fDd4Jab60gaw"
      },
      "source": [
        "# Insantiate Model\n",
        "model_rfc = RandomForestClassifier(bootstrap=True,\n",
        "                               class_weight={0:1, 1:12}, # 0: non-fraud , 1:fraud\n",
        "                               criterion='entropy',\n",
        "                               max_depth=10, # Change depth of model\n",
        "                               min_samples_leaf=10, # Change the number of samples in leaf nodes\n",
        "                               n_estimators=20, # Change the number of trees to use\n",
        "                               n_jobs=-1, \n",
        "                               random_state=5)"
      ],
      "execution_count": null,
      "outputs": []
    },
    {
      "cell_type": "code",
      "metadata": {
        "id": "LlgUqXgt0lKx"
      },
      "source": [
        "# Fit the model on train data and predict on test data \n",
        "model_rfc.fit(X_train_ros,y_train_ros)\n",
        "y_predicted = model_rfc.predict(X_test)"
      ],
      "execution_count": null,
      "outputs": []
    },
    {
      "cell_type": "code",
      "metadata": {
        "colab": {
          "base_uri": "https://localhost:8080/"
        },
        "id": "KJKMH3QW0sQK",
        "outputId": "aa114eb3-b2da-4eba-acef-2e6b646742cf"
      },
      "source": [
        "# Evaluation Metrices\n",
        "print('Classification report:\\n', classification_report(y_test, y_predicted))\n",
        "print('Confusion matrix:\\n',confusion_matrix(y_true = y_test, y_pred = y_predicted))\n",
        "print(\"Logistic Regression Accuracy: \",accuracy_score(y_test,y_predicted))\n",
        "print('ROC AUC : ', roc_auc_score(y_test, y_predicted))"
      ],
      "execution_count": null,
      "outputs": [
        {
          "output_type": "stream",
          "text": [
            "Classification report:\n",
            "               precision    recall  f1-score   support\n",
            "\n",
            "           0       1.00      1.00      1.00     85295\n",
            "           1       0.47      0.78      0.59       148\n",
            "\n",
            "    accuracy                           1.00     85443\n",
            "   macro avg       0.73      0.89      0.79     85443\n",
            "weighted avg       1.00      1.00      1.00     85443\n",
            "\n",
            "Confusion matrix:\n",
            " [[85164   131]\n",
            " [   32   116]]\n",
            "Logistic Regression Accuracy:  0.9980922954484276\n",
            "ROC AUC :  0.8911239688014412\n"
          ],
          "name": "stdout"
        }
      ]
    },
    {
      "cell_type": "markdown",
      "metadata": {
        "id": "Qr5Namz_0xdH"
      },
      "source": [
        "Inference:\n",
        "Precision : 0.46\n",
        "Recall : 0.79\n",
        "F1-score : 0.58\n",
        "Accuracy : 0.99\n",
        "ROC AUC : 0.89"
      ]
    },
    {
      "cell_type": "markdown",
      "metadata": {
        "id": "QHPea4pD0yTW"
      },
      "source": [
        "Model 11 : Random Forest on SMOTE Balanced Data"
      ]
    },
    {
      "cell_type": "code",
      "metadata": {
        "id": "is-IvfaD01IO"
      },
      "source": [
        "# Fit the model on train data and predict on test data \n",
        "model_rfc.fit(X_train_smote,y_train_smote)\n",
        "y_predicted = model_rfc.predict(X_test)"
      ],
      "execution_count": null,
      "outputs": []
    },
    {
      "cell_type": "code",
      "metadata": {
        "colab": {
          "base_uri": "https://localhost:8080/"
        },
        "id": "JcHYuLxd078Q",
        "outputId": "05c73c2f-55c9-4a77-8452-cf659a765a07"
      },
      "source": [
        "# Evaluation Metrices\n",
        "print('Classification report:\\n', classification_report(y_test, y_predicted))\n",
        "print('Confusion matrix:\\n',confusion_matrix(y_true = y_test, y_pred = y_predicted))\n",
        "print(\"Logistic Regression Accuracy: \",accuracy_score(y_test,y_predicted))\n",
        "print('ROC AUC : ', roc_auc_score(y_test, y_predicted))\n"
      ],
      "execution_count": null,
      "outputs": [
        {
          "output_type": "stream",
          "text": [
            "Classification report:\n",
            "               precision    recall  f1-score   support\n",
            "\n",
            "           0       1.00      0.98      0.99     85295\n",
            "           1       0.06      0.84      0.12       148\n",
            "\n",
            "    accuracy                           0.98     85443\n",
            "   macro avg       0.53      0.91      0.55     85443\n",
            "weighted avg       1.00      0.98      0.99     85443\n",
            "\n",
            "Confusion matrix:\n",
            " [[83462  1833]\n",
            " [   23   125]]\n",
            "Logistic Regression Accuracy:  0.9782779162716665\n",
            "ROC AUC :  0.9115522360393103\n"
          ],
          "name": "stdout"
        }
      ]
    },
    {
      "cell_type": "markdown",
      "metadata": {
        "id": "hWrE7EE00_nZ"
      },
      "source": [
        "Inference:\n",
        "Precision : 0.06\n",
        "Recall : 0.84\n",
        "F1-score : 0.12\n",
        "Accuracy : 0.97\n",
        "ROC AUC : 0.91"
      ]
    },
    {
      "cell_type": "markdown",
      "metadata": {
        "id": "fWgB8DGv1Dwl"
      },
      "source": [
        "Model 12 : Random Forest on ADASYN Balanced Data"
      ]
    },
    {
      "cell_type": "code",
      "metadata": {
        "id": "JipKiwLs1BTp"
      },
      "source": [
        "# Fit the model on train data and predict on test data \n",
        "model_rfc.fit(X_train_adasyn,y_train_adasyn)\n",
        "y_predicted = model_rfc.predict(X_test)"
      ],
      "execution_count": null,
      "outputs": []
    },
    {
      "cell_type": "code",
      "metadata": {
        "colab": {
          "base_uri": "https://localhost:8080/"
        },
        "id": "pV1STpsx1Kik",
        "outputId": "e6fbedbf-a4ad-430f-8c76-aa777f3cd74c"
      },
      "source": [
        "# Evaluation Metrices\n",
        "print('Classification report:\\n', classification_report(y_test, y_predicted))\n",
        "print('Confusion matrix:\\n',confusion_matrix(y_true = y_test, y_pred = y_predicted))\n",
        "print(\"Logistic Regression Accuracy: \",accuracy_score(y_test,y_predicted))\n",
        "print('ROC AUC : ', roc_auc_score(y_test, y_predicted))"
      ],
      "execution_count": null,
      "outputs": [
        {
          "output_type": "stream",
          "text": [
            "Classification report:\n",
            "               precision    recall  f1-score   support\n",
            "\n",
            "           0       1.00      0.96      0.98     85295\n",
            "           1       0.03      0.85      0.06       148\n",
            "\n",
            "    accuracy                           0.95     85443\n",
            "   macro avg       0.52      0.90      0.52     85443\n",
            "weighted avg       1.00      0.95      0.98     85443\n",
            "\n",
            "Confusion matrix:\n",
            " [[81470  3825]\n",
            " [   22   126]]\n",
            "Logistic Regression Accuracy:  0.9549758318411105\n",
            "ROC AUC :  0.9032534938361774\n"
          ],
          "name": "stdout"
        }
      ]
    },
    {
      "cell_type": "markdown",
      "metadata": {
        "id": "N-93wmul1PiL"
      },
      "source": [
        "Inference:\n",
        "Precision : 0.03\n",
        "Recall : 0.84\n",
        "F1-score : 0.06\n",
        "Accuracy : 0.95\n",
        "ROC AUC : 0.89"
      ]
    },
    {
      "cell_type": "markdown",
      "metadata": {
        "id": "UCbr2jjn1QhY"
      },
      "source": [
        "Hyperparameter Tuning Random Forest on ROS Data\n",
        "#Model 13 : Hyper Tuning model Random Forest on ROS Balanced Data"
      ]
    },
    {
      "cell_type": "code",
      "metadata": {
        "id": "Dd7-ygxr1Xgp"
      },
      "source": [
        "params = { \n",
        "    'n_estimators': [200, 400],\n",
        "    'max_features': ['auto', 'sqrt', 'log2'],\n",
        "    'max_depth' : [4,5,6,7,8],\n",
        "    'criterion' :['gini', 'entropy']\n",
        "}"
      ],
      "execution_count": null,
      "outputs": []
    },
    {
      "cell_type": "code",
      "metadata": {
        "id": "AqRZhuYV1bwZ"
      },
      "source": [
        "cross_val = StratifiedKFold(n_splits=3)\n",
        "index_iterator = cross_val.split(X_train_ros, y_train_ros)\n",
        "clf = RandomForestClassifier()\n",
        "clf_random = RandomizedSearchCV(estimator = clf, param_distributions = params, n_iter = 50, cv = cross_val,\n",
        "                                verbose=2, random_state=42, n_jobs = -1,scoring='roc_auc')"
      ],
      "execution_count": null,
      "outputs": []
    },
    {
      "cell_type": "code",
      "metadata": {
        "id": "s0oKLnSZ1jbo"
      },
      "source": [
        "# Insanitiate Model on best params\n",
        "model_rfc_tuned = RandomForestClassifier(bootstrap=True,\n",
        "                               class_weight={0:1, 1:12}, \n",
        "                               criterion='entropy',\n",
        "                               max_depth=8, \n",
        "                               max_features='auto',\n",
        "                               n_estimators=200,\n",
        "                               n_jobs=-1)"
      ],
      "execution_count": null,
      "outputs": []
    },
    {
      "cell_type": "code",
      "metadata": {
        "id": "PB9gAY541n6C"
      },
      "source": [
        "#Fit the model on train data and predict the model on test data\n",
        "model_rfc_tuned.fit(X_train_ros,y_train_ros)\n",
        "y_predicted = model_rfc_tuned.predict(X_test)"
      ],
      "execution_count": null,
      "outputs": []
    },
    {
      "cell_type": "code",
      "metadata": {
        "colab": {
          "base_uri": "https://localhost:8080/"
        },
        "id": "Xp-Z9Z-71p_C",
        "outputId": "55dfd6ef-b7cd-4242-d411-768a60539fde"
      },
      "source": [
        "# Evaluation Metrices\n",
        "print('Classification report:\\n', classification_report(y_test, y_predicted))\n",
        "print('Confusion matrix:\\n',confusion_matrix(y_true = y_test, y_pred = y_predicted))\n",
        "print(\"Logistic Regression Accuracy: \",accuracy_score(y_test,y_predicted))\n",
        "print('ROC AUC : ', roc_auc_score(y_test, y_predicted))"
      ],
      "execution_count": null,
      "outputs": [
        {
          "output_type": "stream",
          "text": [
            "Classification report:\n",
            "               precision    recall  f1-score   support\n",
            "\n",
            "           0       1.00      1.00      1.00     85295\n",
            "           1       0.22      0.80      0.35       148\n",
            "\n",
            "    accuracy                           0.99     85443\n",
            "   macro avg       0.61      0.90      0.67     85443\n",
            "weighted avg       1.00      0.99      1.00     85443\n",
            "\n",
            "Confusion matrix:\n",
            " [[84878   417]\n",
            " [   29   119]]\n",
            "Logistic Regression Accuracy:  0.994780145828213\n",
            "ROC AUC :  0.8995825695558974\n"
          ],
          "name": "stdout"
        }
      ]
    },
    {
      "cell_type": "markdown",
      "metadata": {
        "id": "12oqFKpt1t9d"
      },
      "source": [
        "Inference:\n",
        "Precision : 0.20\n",
        "Recall : 0.79\n",
        "F1-score : 0.32\n",
        "Accuracy : 0.99\n",
        "ROC AUC : 0.89"
      ]
    },
    {
      "cell_type": "markdown",
      "metadata": {
        "id": "u_bl-1A_1xZK"
      },
      "source": [
        "XG Boost\n",
        "#Model 14 : XGB on ROS Balanced Data"
      ]
    },
    {
      "cell_type": "code",
      "metadata": {
        "id": "VaFzQJx_11zA"
      },
      "source": [
        "model_xgb_ros = XGBClassifier()"
      ],
      "execution_count": null,
      "outputs": []
    },
    {
      "cell_type": "code",
      "metadata": {
        "id": "xt26BToc15ND"
      },
      "source": [
        "#Fit the model on train data and predict the model on test data\n",
        "model_xgb_ros.fit(X_train_ros,y_train_ros)\n",
        "y_predicted = model_xgb_ros.predict(X_test)"
      ],
      "execution_count": null,
      "outputs": []
    },
    {
      "cell_type": "code",
      "metadata": {
        "colab": {
          "base_uri": "https://localhost:8080/"
        },
        "id": "2gHao9q-17lB",
        "outputId": "06abef02-a5ef-43a0-ec49-c26088d340e5"
      },
      "source": [
        "# Evaluation Metrices\n",
        "print('Classification report:\\n', classification_report(y_test, y_predicted))\n",
        "print('Confusion matrix:\\n',confusion_matrix(y_true = y_test, y_pred = y_predicted))\n",
        "print(\"Logistic Regression Accuracy: \",accuracy_score(y_test,y_predicted))\n",
        "print('ROC AUC : ', roc_auc_score(y_test, y_predicted))"
      ],
      "execution_count": null,
      "outputs": [
        {
          "output_type": "stream",
          "text": [
            "Classification report:\n",
            "               precision    recall  f1-score   support\n",
            "\n",
            "           0       1.00      1.00      1.00     85295\n",
            "           1       0.30      0.84      0.45       148\n",
            "\n",
            "    accuracy                           1.00     85443\n",
            "   macro avg       0.65      0.92      0.72     85443\n",
            "weighted avg       1.00      1.00      1.00     85443\n",
            "\n",
            "Confusion matrix:\n",
            " [[85010   285]\n",
            " [   24   124]]\n",
            "Logistic Regression Accuracy:  0.9963835539482462\n",
            "ROC AUC :  0.9172482465465641\n"
          ],
          "name": "stdout"
        }
      ]
    },
    {
      "cell_type": "markdown",
      "metadata": {
        "id": "xueXh9mh2Aeg"
      },
      "source": [
        "Inference:\n",
        "Precision : 0.92\n",
        "Recall : 0.78\n",
        "F1-score : 0.84\n",
        "Accuracy : 0.99\n",
        "ROC AUC : 0.88"
      ]
    },
    {
      "cell_type": "markdown",
      "metadata": {
        "id": "4i2AgM-n2Bfu"
      },
      "source": [
        "Hyperparameter Tuning on ROS Balanced data\n",
        "#Model 15 : Hyper Tuning XGB on ROS Balanced Data"
      ]
    },
    {
      "cell_type": "code",
      "metadata": {
        "id": "ngZ_Gl5H2HlG"
      },
      "source": [
        "# A parameter grid for XGBoost\n",
        "params = {\n",
        "        'min_child_weight': [1, 5, 10],\n",
        "        'gamma': [0.5, 1, 1.5, 2, 5],\n",
        "        'subsample': [0.6, 0.8, 1.0],\n",
        "        'colsample_bytree': [0.6, 0.8, 1.0],\n",
        "        'max_depth': [3, 4, 5]\n",
        "        }"
      ],
      "execution_count": null,
      "outputs": []
    },
    {
      "cell_type": "code",
      "metadata": {
        "id": "xjxtQErV2INF"
      },
      "source": [
        "cross_val = StratifiedKFold(n_splits=4)\n",
        "index_iterator = cross_val.split(X_train_ros, y_train_ros)\n",
        "\n",
        "\n",
        "xgb_cross = XGBClassifier(learning_rate=0.02, n_estimators=100, objective='binary:logistic',\n",
        "                    silent=True, nthread=1) \n",
        "\n",
        "\n",
        "xgb_random = RandomizedSearchCV(estimator = xgb_cross, param_distributions = params, n_iter =30 , cv = cross_val,\n",
        "                                verbose=2, random_state=42, n_jobs = -1,scoring='roc_auc')"
      ],
      "execution_count": null,
      "outputs": []
    },
    {
      "cell_type": "code",
      "metadata": {
        "id": "H1WVoVUW2Stl"
      },
      "source": [
        "model_xgb_tuned_ros = XGBClassifier(min_child_weight= 5,\n",
        "        gamma= 1.5,\n",
        "        subsample= 1.0,\n",
        "        colsample_bytree= 0.6,\n",
        "        max_depth= 5)"
      ],
      "execution_count": null,
      "outputs": []
    },
    {
      "cell_type": "code",
      "metadata": {
        "id": "2OkP667Q2VY2"
      },
      "source": [
        "#Fit the model on train data and predict the model on test data\n",
        "model_xgb_tuned_ros.fit(X_train_ros,y_train_ros)\n",
        "y_predicted = model_xgb_tuned_ros.predict(X_test)"
      ],
      "execution_count": null,
      "outputs": []
    },
    {
      "cell_type": "code",
      "metadata": {
        "colab": {
          "base_uri": "https://localhost:8080/"
        },
        "id": "0lb0sdlO2asy",
        "outputId": "aa615faf-d914-44e0-9e36-2b8505ec49a8"
      },
      "source": [
        "# Evaluation Metrices\n",
        "print('Classification report:\\n', classification_report(y_test, y_predicted))\n",
        "print('Confusion matrix:\\n',confusion_matrix(y_true = y_test, y_pred = y_predicted))\n",
        "print(\"Logistic Regression Accuracy: \",accuracy_score(y_test,y_predicted))\n",
        "print('ROC AUC : ', roc_auc_score(y_test, y_predicted))"
      ],
      "execution_count": null,
      "outputs": [
        {
          "output_type": "stream",
          "text": [
            "Classification report:\n",
            "               precision    recall  f1-score   support\n",
            "\n",
            "           0       1.00      1.00      1.00     85295\n",
            "           1       0.73      0.80      0.76       148\n",
            "\n",
            "    accuracy                           1.00     85443\n",
            "   macro avg       0.87      0.90      0.88     85443\n",
            "weighted avg       1.00      1.00      1.00     85443\n",
            "\n",
            "Confusion matrix:\n",
            " [[85252    43]\n",
            " [   30   118]]\n",
            "Logistic Regression Accuracy:  0.9991456292499094\n",
            "ROC AUC :  0.8983965822907144\n"
          ],
          "name": "stdout"
        }
      ]
    },
    {
      "cell_type": "markdown",
      "metadata": {
        "id": "X4dP9fa72ej5"
      },
      "source": [
        "Inference:\n",
        "Precision : 0.91\n",
        "Recall : 0.76\n",
        "F1-score : 0.83\n",
        "Accuracy : 0.99\n",
        "ROC AUC : 0.87"
      ]
    },
    {
      "cell_type": "markdown",
      "metadata": {
        "id": "6Ot8DUiC2f1W"
      },
      "source": [
        "Model 16 : XGB on SMOTE Balanced Data¶"
      ]
    },
    {
      "cell_type": "code",
      "metadata": {
        "id": "RtCJY01h2i2k"
      },
      "source": [
        "model_xgb_smote = XGBClassifier()"
      ],
      "execution_count": null,
      "outputs": []
    },
    {
      "cell_type": "code",
      "metadata": {
        "id": "CsWt06HU2onj"
      },
      "source": [
        "#Fit the model on train data and predict the model on test data\n",
        "model_xgb_smote.fit(X_train_smote,y_train_smote)\n",
        "y_predicted = model_xgb_smote.predict(X_test)"
      ],
      "execution_count": null,
      "outputs": []
    },
    {
      "cell_type": "code",
      "metadata": {
        "colab": {
          "base_uri": "https://localhost:8080/"
        },
        "id": "r1AE449M2s0O",
        "outputId": "f76e2769-8e69-463f-9aaa-f901d595ce73"
      },
      "source": [
        "# Evaluation Metrices\n",
        "print('Classification report:\\n', classification_report(y_test, y_predicted))\n",
        "print('Confusion matrix:\\n',confusion_matrix(y_true = y_test, y_pred = y_predicted))\n",
        "print(\"Logistic Regression Accuracy: \",accuracy_score(y_test,y_predicted))\n",
        "print('ROC AUC : ', roc_auc_score(y_test, y_predicted))"
      ],
      "execution_count": null,
      "outputs": [
        {
          "output_type": "stream",
          "text": [
            "Classification report:\n",
            "               precision    recall  f1-score   support\n",
            "\n",
            "           0       1.00      0.99      1.00     85295\n",
            "           1       0.17      0.85      0.28       148\n",
            "\n",
            "    accuracy                           0.99     85443\n",
            "   macro avg       0.58      0.92      0.64     85443\n",
            "weighted avg       1.00      0.99      0.99     85443\n",
            "\n",
            "Confusion matrix:\n",
            " [[84661   634]\n",
            " [   22   126]]\n",
            "Logistic Regression Accuracy:  0.9923223669580891\n",
            "ROC AUC :  0.9219591623982267\n"
          ],
          "name": "stdout"
        }
      ]
    },
    {
      "cell_type": "markdown",
      "metadata": {
        "id": "yDoUO-hh2wk7"
      },
      "source": [
        "Inference:\n",
        "Precision : 0.82\n",
        "Recall : 0.76\n",
        "F1-score : 0.79\n",
        "Accuracy : 0.99\n",
        "ROC AUC : 0.88"
      ]
    },
    {
      "cell_type": "markdown",
      "metadata": {
        "id": "v-6muT-T2xze"
      },
      "source": [
        "Hyperparameter Tuning on Smote Balanced data\n",
        "#Model 17 : Hyper Tuning XGB on SMOTE Balanced Data"
      ]
    },
    {
      "cell_type": "code",
      "metadata": {
        "id": "2ceEc09G27rl"
      },
      "source": [
        "# A parameter grid for XGBoost\n",
        "params = {\n",
        "        'min_child_weight': [1, 5, 10,15],\n",
        "        'gamma': [0.5, 1, 1.5, 2, 5,8],\n",
        "        'subsample': [0.6, 0.8, 1.0],\n",
        "        'colsample_bytree': [0.6, 0.8, 1.0,1.2],\n",
        "        'max_depth': [3, 4, 5,6,7]\n",
        "        }"
      ],
      "execution_count": null,
      "outputs": []
    },
    {
      "cell_type": "code",
      "metadata": {
        "id": "vud3H9B82_re"
      },
      "source": [
        "cross_val = StratifiedKFold(n_splits=5)\n",
        "index_iterator = cross_val.split(X_train_smote, y_train_smote)\n",
        "\n",
        "\n",
        "xgb_cross = XGBClassifier(learning_rate=0.02, n_estimators=100, objective='binary:logistic',\n",
        "                    silent=True, nthread=1) \n",
        "\n",
        "\n",
        "xgb_random = RandomizedSearchCV(estimator = xgb_cross, param_distributions = params, n_iter =40 , cv = cross_val,\n",
        "                                verbose=2, random_state=42, n_jobs = -1,scoring='roc_auc')"
      ],
      "execution_count": null,
      "outputs": []
    },
    {
      "cell_type": "code",
      "metadata": {
        "id": "Kai6sZgu3EX2"
      },
      "source": [
        "model_xgb_tuned_smote = XGBClassifier(min_child_weight= 10,\n",
        "        gamma= 1.5,\n",
        "        subsample= 0.6,\n",
        "        colsample_bytree= 0.6,\n",
        "        max_depth= 5)"
      ],
      "execution_count": null,
      "outputs": []
    },
    {
      "cell_type": "code",
      "metadata": {
        "id": "1yErSGYo3HzT"
      },
      "source": [
        "#Fit the model on train data and predict the model on test data\n",
        "model_xgb_tuned_smote.fit(X_train_smote,y_train_smote)\n",
        "y_predicted = model_xgb_tuned.predict(X_test)"
      ],
      "execution_count": null,
      "outputs": []
    },
    {
      "cell_type": "code",
      "metadata": {
        "colab": {
          "base_uri": "https://localhost:8080/"
        },
        "id": "68y3i2GF3Ka8",
        "outputId": "7bedd1b7-5021-4211-a81f-9503b5f5fafe"
      },
      "source": [
        "#Evaluation Metrices\n",
        "print('Classification report:\\n', classification_report(y_test, y_predicted))\n",
        "print('Confusion matrix:\\n',confusion_matrix(y_true = y_test, y_pred = y_predicted))\n",
        "print(\"Logistic Regression Accuracy: \",accuracy_score(y_test,y_predicted))\n",
        "print('ROC AUC : ', roc_auc_score(y_test, y_predicted))"
      ],
      "execution_count": null,
      "outputs": [
        {
          "output_type": "stream",
          "text": [
            "Classification report:\n",
            "               precision    recall  f1-score   support\n",
            "\n",
            "           0       1.00      1.00      1.00     85295\n",
            "           1       0.93      0.72      0.81       148\n",
            "\n",
            "    accuracy                           1.00     85443\n",
            "   macro avg       0.96      0.86      0.90     85443\n",
            "weighted avg       1.00      1.00      1.00     85443\n",
            "\n",
            "Confusion matrix:\n",
            " [[85287     8]\n",
            " [   42   106]]\n",
            "Logistic Regression Accuracy:  0.9994148145547324\n",
            "ROC AUC :  0.8580612120415158\n"
          ],
          "name": "stdout"
        }
      ]
    },
    {
      "cell_type": "markdown",
      "metadata": {
        "id": "8kUeKAmD3Pfc"
      },
      "source": [
        "Inference:\n",
        "Precision : 0.95\n",
        "Recall : 0.72\n",
        "F1-score : 0.82\n",
        "Accuracy : 0.99\n",
        "ROC AUC : 0.85"
      ]
    },
    {
      "cell_type": "markdown",
      "metadata": {
        "id": "fme08YlW3Su2"
      },
      "source": [
        "Model 18 : XGB on ADASYN Balanced Data"
      ]
    },
    {
      "cell_type": "code",
      "metadata": {
        "id": "H5YQ3Dii3VOX"
      },
      "source": [
        "model_xgb_adasyn = XGBClassifier()"
      ],
      "execution_count": null,
      "outputs": []
    },
    {
      "cell_type": "code",
      "metadata": {
        "id": "XCM8Vxky3Yw7"
      },
      "source": [
        "#Fit the model on train data and predict the model on test data\n",
        "model_xgb_adasyn.fit(X_train_adasyn,y_train_adasyn)\n",
        "y_predicted = model_xgb_adasyn.predict(X_test)"
      ],
      "execution_count": null,
      "outputs": []
    },
    {
      "cell_type": "code",
      "metadata": {
        "colab": {
          "base_uri": "https://localhost:8080/"
        },
        "id": "xwm_IlCV3cmD",
        "outputId": "ed2113fc-0947-487a-e558-2d14c82e8fb4"
      },
      "source": [
        "#Evaluation Metrices\n",
        "print('Classification report:\\n', classification_report(y_test, y_predicted))\n",
        "print('Confusion matrix:\\n',confusion_matrix(y_true = y_test, y_pred = y_predicted))\n",
        "print(\"Logistic Regression Accuracy: \",accuracy_score(y_test,y_predicted))\n",
        "print('ROC AUC : ', roc_auc_score(y_test, y_predicted))"
      ],
      "execution_count": null,
      "outputs": [
        {
          "output_type": "stream",
          "text": [
            "Classification report:\n",
            "               precision    recall  f1-score   support\n",
            "\n",
            "           0       1.00      0.97      0.99     85295\n",
            "           1       0.05      0.89      0.10       148\n",
            "\n",
            "    accuracy                           0.97     85443\n",
            "   macro avg       0.53      0.93      0.54     85443\n",
            "weighted avg       1.00      0.97      0.98     85443\n",
            "\n",
            "Confusion matrix:\n",
            " [[83007  2288]\n",
            " [   17   131]]\n",
            "Logistic Regression Accuracy:  0.9730229509731634\n",
            "ROC AUC :  0.9291552925221369\n"
          ],
          "name": "stdout"
        }
      ]
    },
    {
      "cell_type": "markdown",
      "metadata": {
        "id": "HHU0pmXL3hLN"
      },
      "source": [
        "Inference:\n",
        "Precision : 0.76\n",
        "Recall : 0.76\n",
        "F1-score : 0.76\n",
        "Accuracy : 0.99\n",
        "ROC AUC : 0.87"
      ]
    },
    {
      "cell_type": "markdown",
      "metadata": {
        "id": "q7uJMjTE3iPG"
      },
      "source": [
        "Model 19: Hyperparameter Tuning on Adasyn Balanced data"
      ]
    },
    {
      "cell_type": "code",
      "metadata": {
        "id": "YpAeCxFz3ojd"
      },
      "source": [
        "# A parameter grid for XGBoost\n",
        "params = {\n",
        "        'min_child_weight': [1, 5, 10],\n",
        "        'gamma': [0.5, 1, 1.5, 2, 5],\n",
        "        'subsample': [0.6, 0.8, 1.0],\n",
        "        'colsample_bytree': [0.6, 0.8, 1.0],\n",
        "        'max_depth': [3, 4, 5]\n",
        "        }"
      ],
      "execution_count": null,
      "outputs": []
    },
    {
      "cell_type": "code",
      "metadata": {
        "id": "K4n7ZVau3s_n"
      },
      "source": [
        "cross_val = StratifiedKFold(n_splits=5)\n",
        "index_iterator = cross_val.split(X_train_adasyn, y_train_adasyn)\n",
        "\n",
        "\n",
        "xgb_cross = XGBClassifier(learning_rate=0.02, n_estimators=100, objective='binary:logistic',\n",
        "                    silent=True, nthread=1) \n",
        "\n",
        "\n",
        "xgb_random = RandomizedSearchCV(estimator = xgb_cross, param_distributions = params, n_iter =30 , cv = cross_val,\n",
        "                                verbose=2, random_state=42, n_jobs = -1,scoring='roc_auc')"
      ],
      "execution_count": null,
      "outputs": []
    },
    {
      "cell_type": "code",
      "metadata": {
        "id": "AGHGXODi3xNI"
      },
      "source": [
        "model_xgb_tuned_adasyn = XGBClassifier(min_child_weight= 10,\n",
        "        gamma= 1.5,\n",
        "        subsample= 0.6,\n",
        "        colsample_bytree= 0.6,\n",
        "        max_depth= 5)"
      ],
      "execution_count": null,
      "outputs": []
    },
    {
      "cell_type": "code",
      "metadata": {
        "id": "Tk3CmFLd3zx7"
      },
      "source": [
        "#Fit the model on train data and predict the model on test data\n",
        "model_xgb_tuned_adasyn.fit(X_train_adasyn,y_train_adasyn)\n",
        "y_predicted = model_xgb_tuned_adasyn.predict(X_test)"
      ],
      "execution_count": null,
      "outputs": []
    },
    {
      "cell_type": "code",
      "metadata": {
        "colab": {
          "base_uri": "https://localhost:8080/"
        },
        "id": "5ww3lEWG33it",
        "outputId": "1f135cce-815f-4732-bbb0-eb340eb61df1"
      },
      "source": [
        "#Evaluation Metrices\n",
        "print('Classification report:\\n', classification_report(y_test, y_predicted))\n",
        "print('Confusion matrix:\\n',confusion_matrix(y_true = y_test, y_pred = y_predicted))\n",
        "print(\"Logistic Regression Accuracy: \",accuracy_score(y_test,y_predicted))\n",
        "print('ROC AUC : ', roc_auc_score(y_test, y_predicted))"
      ],
      "execution_count": null,
      "outputs": [
        {
          "output_type": "stream",
          "text": [
            "Classification report:\n",
            "               precision    recall  f1-score   support\n",
            "\n",
            "           0       1.00      0.99      1.00     85295\n",
            "           1       0.18      0.85      0.30       148\n",
            "\n",
            "    accuracy                           0.99     85443\n",
            "   macro avg       0.59      0.92      0.65     85443\n",
            "weighted avg       1.00      0.99      1.00     85443\n",
            "\n",
            "Confusion matrix:\n",
            " [[84728   567]\n",
            " [   22   126]]\n",
            "Logistic Regression Accuracy:  0.9931065154547476\n",
            "ROC AUC :  0.9223519169559383\n"
          ],
          "name": "stdout"
        }
      ]
    },
    {
      "cell_type": "markdown",
      "metadata": {
        "id": "Ffdtl7Y738Bx"
      },
      "source": [
        "Inference:\n",
        "Precision : 0.54\n",
        "Recall : 0.77\n",
        "F1-score : 0.64\n",
        "Accuracy : 0.99\n",
        "ROC AUC : 0.88"
      ]
    },
    {
      "cell_type": "markdown",
      "metadata": {
        "id": "C3hk0h0o3_pQ"
      },
      "source": [
        "Step 6: Final Analysis\n",
        "#Best Model considering various parameters and scenarios"
      ]
    },
    {
      "cell_type": "markdown",
      "metadata": {
        "id": "agpmr5sD4HfX"
      },
      "source": [
        "In nutshell rather than aiming for overall accuracy on the entire dataset, we cared more about detecting most of the fraud cases (recall), whilst keeping the cost at which this is achieved under control (precision).We have applied XGBoost on Smote data and got the best evaluation metrices."
      ]
    },
    {
      "cell_type": "code",
      "metadata": {
        "id": "McLr7qGN4McI"
      },
      "source": [
        "#Predicting on the test data using the best model\n",
        "y_predicted = model_xgb_smote.predict(X_test)"
      ],
      "execution_count": null,
      "outputs": []
    },
    {
      "cell_type": "code",
      "metadata": {
        "id": "d46cq5Xr4SY6"
      },
      "source": [
        "# Create true and false positive rates\n",
        "fpr, tpr, thresholds = roc_curve(y_test, y_predicted)\n",
        "roc_auc = roc_auc_score(y_test, y_predicted)"
      ],
      "execution_count": null,
      "outputs": []
    },
    {
      "cell_type": "code",
      "metadata": {
        "colab": {
          "base_uri": "https://localhost:8080/"
        },
        "id": "h5Ai96FF4Xuz",
        "outputId": "e267170d-ca6d-4c3c-f86b-1abd5bbeb22e"
      },
      "source": [
        "# Printing Evaluation Metrices\n",
        "print('Classification report for XGBoost Smote:\\n', classification_report(y_test, y_predicted))\n",
        "print(\"Logistic Regression Accuracy: \",accuracy_score(y_test,y_predicted))\n",
        "print('ROC AUC : ', roc_auc_score(y_test, y_predicted))\n",
        "print('Confusion matrix:\\n',confusion_matrix(y_true = y_test, y_pred = y_predicted))\n",
        "threshold = thresholds[np.argmax(tpr-fpr)]\n",
        "print(\"Threshold:\",threshold)"
      ],
      "execution_count": null,
      "outputs": [
        {
          "output_type": "stream",
          "text": [
            "Classification report for XGBoost Smote:\n",
            "               precision    recall  f1-score   support\n",
            "\n",
            "           0       1.00      0.99      1.00     85295\n",
            "           1       0.17      0.85      0.28       148\n",
            "\n",
            "    accuracy                           0.99     85443\n",
            "   macro avg       0.58      0.92      0.64     85443\n",
            "weighted avg       1.00      0.99      0.99     85443\n",
            "\n",
            "Logistic Regression Accuracy:  0.9923223669580891\n",
            "ROC AUC :  0.9219591623982267\n",
            "Confusion matrix:\n",
            " [[84661   634]\n",
            " [   22   126]]\n",
            "Threshold: 1\n"
          ],
          "name": "stdout"
        }
      ]
    },
    {
      "cell_type": "code",
      "metadata": {
        "colab": {
          "base_uri": "https://localhost:8080/",
          "height": 410
        },
        "id": "En2hGLpQ4asr",
        "outputId": "1e2fdbac-0aa0-49d1-ed44-a28132225702"
      },
      "source": [
        "# Plotting the roc curve \n",
        "plt.rcParams['figure.figsize'] = [6,6]\n",
        "plot_roc_curve(fpr,tpr,roc_auc)"
      ],
      "execution_count": null,
      "outputs": [
        {
          "output_type": "display_data",
          "data": {
            "image/png": "[encoded data removed]",
            "text/plain": [
              "<Figure size 432x432 with 1 Axes>"
            ]
          },
          "metadata": {
            "tags": [],
            "needs_background": "light"
          }
        }
      ]
    },
    {
      "cell_type": "markdown",
      "metadata": {
        "id": "YyFqNoiE4fEx"
      },
      "source": [
        "Inference:\n",
        "Precision : 0.82\n",
        "Recall : 0.76\n",
        "F1-score : 0.79\n",
        "Accuracy : 0.99\n",
        "ROC AUC : 0.88"
      ]
    },
    {
      "cell_type": "markdown",
      "metadata": {
        "id": "lCVaha7W4jHx"
      },
      "source": [
        "Important Features"
      ]
    },
    {
      "cell_type": "code",
      "metadata": {
        "id": "ajn9uCXy4j7L"
      },
      "source": [
        "target = 'Class'\n",
        "pca_comp = ['V1', 'V2', 'V3', 'V4', 'V5', 'V6', 'V7', 'V8', 'V9', 'V10',\\\n",
        "       'V11', 'V12', 'V13', 'V14', 'V15', 'V16', 'V17', 'V18', 'V19',\\\n",
        "       'V20', 'V21', 'V22', 'V23', 'V24', 'V25', 'V26', 'V27', 'V28',\\\n",
        "       'Amount', 'Time']"
      ],
      "execution_count": null,
      "outputs": []
    },
    {
      "cell_type": "code",
      "metadata": {
        "colab": {
          "base_uri": "https://localhost:8080/",
          "height": 335
        },
        "id": "icIp9Yht4mdp",
        "outputId": "a11d36c5-c885-4dc5-cd47-a9ad916581cc"
      },
      "source": [
        "tmp = pd.DataFrame({'Feature': pca_comp, 'Feature importance': model_xgb_smote.feature_importances_})\n",
        "tmp = tmp.sort_values(by='Feature importance',ascending=False)\n",
        "plt.figure(figsize = (7,4))\n",
        "plt.title('Features importance',fontsize=14)\n",
        "s = sns.barplot(x='Feature',y='Feature importance',data=tmp)\n",
        "s.set_xticklabels(s.get_xticklabels(),rotation=90)\n",
        "plt.show() "
      ],
      "execution_count": null,
      "outputs": [
        {
          "output_type": "display_data",
          "data": {
            "image/png": "[encoded data removed]",
            "text/plain": [
              "<Figure size 504x288 with 1 Axes>"
            ]
          },
          "metadata": {
            "tags": [],
            "needs_background": "light"
          }
        }
      ]
    },
    {
      "cell_type": "markdown",
      "metadata": {
        "id": "P-WFl4EJ4uRz"
      },
      "source": [
        "Inference:\n",
        "We found out that PCA converted variables like V15, V5 are able to explain the maximum variance and hence we can target these variables to detect a fraud."
      ]
    },
    {
      "cell_type": "markdown",
      "metadata": {
        "id": "IOQfD5hH41Mt"
      },
      "source": [
        "Step 7: Closing Statement"
      ]
    },
    {
      "cell_type": "markdown",
      "metadata": {
        "id": "zjFEjXF55EqR"
      },
      "source": [
        "We have build a logistic regression model based on the transaction data provided to us.\n",
        "The data provided to us was very imbalanced data set. Hence, for building a proper logistic model on top of that we have used some balancing techniques like (ROS,SMOTE etc) to balance the data and applied some of very popular logistic regression models like Random Forest, Logistic regression and some boosting techniques like XGBoost to catch any frud transactions.\n",
        "In our scenario Accuracy was not a concerning Evaluation criteria and we focussed more on Recall and AUC.\n",
        "We finally able to build a proper logistic model and predicted on test data and the results were satisfying.\n",
        "We were also able to figure out the variables which will be important in detecting any fraud transactions"
      ]
    },
    {
      "cell_type": "code",
      "metadata": {
        "id": "g8NrvboQ42HT"
      },
      "source": [],
      "execution_count": null,
      "outputs": []
    }
  ]
}